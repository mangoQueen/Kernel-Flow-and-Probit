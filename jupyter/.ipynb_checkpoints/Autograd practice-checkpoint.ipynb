{
 "cells": [
  {
   "cell_type": "code",
   "execution_count": 32,
   "id": "4f6c607f",
   "metadata": {},
   "outputs": [
    {
     "name": "stdout",
     "output_type": "stream",
     "text": [
      "8.178801034763653\n"
     ]
    },
    {
     "data": {
      "image/png": "[encoded data removed]",
      "text/plain": [
       "<Figure size 432x288 with 1 Axes>"
      ]
     },
     "metadata": {
      "needs_background": "light"
     },
     "output_type": "display_data"
    },
    {
     "data": {
      "image/png": "[encoded data removed]",
      "text/plain": [
       "<Figure size 432x288 with 1 Axes>"
      ]
     },
     "metadata": {
      "needs_background": "light"
     },
     "output_type": "display_data"
    }
   ],
   "source": [
    "import autograd.numpy as np\n",
    "import autograd\n",
    "import matplotlib.pyplot as plt\n",
    "\n",
    "\n",
    "N = 50\n",
    "def w(x):\n",
    "    W = np.zeros(N)\n",
    "    for i in range(N):\n",
    "        xi = x[i]\n",
    "        if isinstance(x[i], autograd.numpy.numpy_boxes.ArrayBox):\n",
    "            xi = x[i]._value\n",
    "        W[i] = xi**3\n",
    "    return W\n",
    "        \n",
    "def wf(x):\n",
    "    return np.dot(w(x), x)\n",
    "\n",
    "g = autograd.grad(wf)\n",
    "x = np.random.rand(N)\n",
    "\n",
    "print(wf(x))\n",
    "plt.scatter(x, w(x))\n",
    "plt.title('w(x)')\n",
    "plt.show()\n",
    "plt.scatter(x, g(x))\n",
    "plt.title('grad(f(x))')\n",
    "plt.show()"
   ]
  },
  {
   "cell_type": "code",
   "execution_count": 42,
   "id": "fdbaa846",
   "metadata": {},
   "outputs": [],
   "source": [
    "# gradient descent test\n",
    "\n",
    "def descent(f, x0, learning_rate = 1e-1, tol=1e-01, maxiter=100):\n",
    "    '''\n",
    "    f - input function\n",
    "    x0 - initialization\n",
    "    tol - tolerance for step size\n",
    "    '''\n",
    "\n",
    "    x = x0\n",
    "    for it in range(maxiter):\n",
    "        cost = round(f(x), 10)\n",
    "        grad = autograd.grad(f)\n",
    "        direction = grad(x)\n",
    "        x = x - learning_rate*direction\n",
    "        step = round(np.linalg.norm(direction), 10)\n",
    "        print(str(it) + \" | Cost: \" + str(cost) + \" | Step: \" + str(step))\n",
    "\n",
    "        if np.linalg.norm(direction) < tol:\n",
    "            break\n",
    "\n",
    "    return x, it+1"
   ]
  },
  {
   "cell_type": "code",
   "execution_count": 44,
   "id": "32ff0ae0",
   "metadata": {},
   "outputs": [
    {
     "name": "stdout",
     "output_type": "stream",
     "text": [
      "0 | Cost: 8.1788010348 | Step: 2.3504598593\n",
      "1 | Cost: 6.2050160461 | Step: 1.8656935147\n",
      "2 | Cost: 4.936020055 | Step: 1.5443040696\n",
      "3 | Cost: 4.0547347881 | Step: 1.3144691249\n",
      "4 | Cost: 3.4099615047 | Step: 1.1416410851\n",
      "5 | Cost: 2.9199404625 | Step: 1.006889394\n",
      "6 | Cost: 2.536504567 | Step: 0.8988929247\n",
      "7 | Cost: 2.2294325579 | Step: 0.810437447\n",
      "8 | Cost: 1.9788184655 | Step: 0.7366971191\n",
      "9 | Cost: 1.7710315534 | Step: 0.6743170292\n",
      "10 | Cost: 1.5964361106 | Step: 0.6208904422\n",
      "11 | Cost: 1.4480366522 | Step: 0.5746450503\n",
      "12 | Cost: 1.3206381282 | Step: 0.5342464669\n",
      "13 | Cost: 1.2103064947 | Step: 0.4986706859\n",
      "14 | Cost: 1.1140115163 | Step: 0.4671187507\n",
      "15 | Cost: 1.0293839309 | Step: 0.4389581518\n",
      "16 | Cost: 0.9545465168 | Step: 0.4136816512\n",
      "17 | Cost: 0.8879941588 | Step: 0.3908777626\n",
      "18 | Cost: 0.8285071482 | Step: 0.3702092078\n",
      "19 | Cost: 0.7750874813 | Step: 0.3513969398\n",
      "20 | Cost: 0.7269113703 | Step: 0.3342081233\n",
      "21 | Cost: 0.6832933652 | Step: 0.3184469729\n",
      "22 | Cost: 0.6436589212 | Step: 0.3039476865\n",
      "23 | Cost: 0.60752319 | Step: 0.2905689357\n",
      "24 | Cost: 0.5744744552 | Step: 0.2781895265\n",
      "25 | Cost: 0.5441610748 | Step: 0.2667049507\n",
      "26 | Cost: 0.516281098 | Step: 0.2560246216\n",
      "27 | Cost: 0.4905739416 | Step: 0.2460696405\n",
      "28 | Cost: 0.4668136691 | Step: 0.2367709797\n",
      "29 | Cost: 0.4448035243 | Step: 0.2280679929\n",
      "30 | Cost: 0.4243714572 | Step: 0.219907187\n",
      "31 | Cost: 0.4053664396 | Step: 0.2122412039\n",
      "32 | Cost: 0.3876554128 | Step: 0.20502797\n",
      "33 | Cost: 0.3711207464 | Step: 0.1982299838\n",
      "34 | Cost: 0.3556581109 | Step: 0.1918137149\n",
      "35 | Cost: 0.3411746891 | Step: 0.1857490952\n",
      "36 | Cost: 0.3275876641 | Step: 0.1800090866\n",
      "37 | Cost: 0.314822937 | Step: 0.1745693108\n",
      "38 | Cost: 0.3028140345 | Step: 0.169407733\n",
      "39 | Cost: 0.291501174 | Step: 0.1645043882\n",
      "40 | Cost: 0.2808304616 | Step: 0.1598411462\n",
      "41 | Cost: 0.2707532012 | Step: 0.155401507\n",
      "42 | Cost: 0.2612252965 | Step: 0.151170423\n",
      "43 | Cost: 0.2522067337 | Step: 0.1471341436\n",
      "44 | Cost: 0.2436611308 | Step: 0.1432800803\n",
      "45 | Cost: 0.235555344 | Step: 0.1395966869\n",
      "46 | Cost: 0.2278591246 | Step: 0.1360733548\n",
      "47 | Cost: 0.220544817 | Step: 0.132700321\n",
      "48 | Cost: 0.2135870937 | Step: 0.1294685857\n",
      "49 | Cost: 0.2069627212 | Step: 0.1263698401\n",
      "50 | Cost: 0.2006503537 | Step: 0.123396402\n",
      "51 | Cost: 0.1946303495 | Step: 0.1205411583\n",
      "52 | Cost: 0.1888846094 | Step: 0.1177975137\n",
      "53 | Cost: 0.1833964315 | Step: 0.1151593451\n",
      "54 | Cost: 0.1781503823 | Step: 0.1126209602\n",
      "55 | Cost: 0.1731321822 | Step: 0.110177061\n",
      "56 | Cost: 0.1683286022 | Step: 0.1078227103\n",
      "57 | Cost: 0.1637273713 | Step: 0.1055533018\n",
      "58 | Cost: 0.1593170941 | Step: 0.1033645336\n",
      "59 | Cost: 0.1550871758 | Step: 0.101252383\n",
      "60 | Cost: 0.1510277553 | Step: 0.099213085\n",
      "Finished in 61 steps\n"
     ]
    }
   ],
   "source": [
    "newx, count = descent(wf, x)\n",
    "print(\"Finished in \" + str(count) +\" steps\")"
   ]
  },
  {
   "cell_type": "code",
   "execution_count": 6,
   "id": "c48cac84",
   "metadata": {},
   "outputs": [],
   "source": [
    "from ray import tune\n",
    "\n",
    "def objective(x, a, b):\n",
    "    return a * (x ** 0.5) + b\n",
    "\n",
    "def trainable(config):\n",
    "    # config (dict): A dict of hyperparameters.\n",
    "\n",
    "    for x in range(20):\n",
    "        score = objective(x, config[\"a\"], config[\"b\"])\n",
    "\n",
    "        tune.report(score=score)  # This sends the score to Tune.\n",
    "        "
   ]
  },
  {
   "cell_type": "code",
   "execution_count": 7,
   "id": "59c4dd20",
   "metadata": {},
   "outputs": [
    {
     "ename": "AssertionError",
     "evalue": "BayesOpt must be installed!. You can install BayesOpt with the command: `pip install bayesian-optimization`.",
     "output_type": "error",
     "traceback": [
      "\u001b[0;31m---------------------------------------------------------------------------\u001b[0m",
      "\u001b[0;31mAssertionError\u001b[0m                            Traceback (most recent call last)",
      "\u001b[0;32m<ipython-input-7-a03d02e20b5f>\u001b[0m in \u001b[0;36m<module>\u001b[0;34m\u001b[0m\n\u001b[1;32m     16\u001b[0m     \u001b[0;31m# Limit to two concurrent trials (otherwise we end up with random search)\u001b[0m\u001b[0;34m\u001b[0m\u001b[0;34m\u001b[0m\u001b[0;34m\u001b[0m\u001b[0m\n\u001b[1;32m     17\u001b[0m     search_alg=ConcurrencyLimiter(\n\u001b[0;32m---> 18\u001b[0;31m         \u001b[0mBayesOptSearch\u001b[0m\u001b[0;34m(\u001b[0m\u001b[0mrandom_search_steps\u001b[0m\u001b[0;34m=\u001b[0m\u001b[0;36m4\u001b[0m\u001b[0;34m)\u001b[0m\u001b[0;34m,\u001b[0m\u001b[0;34m\u001b[0m\u001b[0;34m\u001b[0m\u001b[0m\n\u001b[0m\u001b[1;32m     19\u001b[0m         max_concurrent=2),\n\u001b[1;32m     20\u001b[0m     \u001b[0mnum_samples\u001b[0m\u001b[0;34m=\u001b[0m\u001b[0;36m20\u001b[0m\u001b[0;34m,\u001b[0m\u001b[0;34m\u001b[0m\u001b[0;34m\u001b[0m\u001b[0m\n",
      "\u001b[0;32m/opt/anaconda3/lib/python3.8/site-packages/ray/tune/suggest/bayesopt.py\u001b[0m in \u001b[0;36m__init__\u001b[0;34m(self, space, metric, mode, points_to_evaluate, utility_kwargs, random_state, random_search_steps, verbose, patience, skip_duplicate, analysis, max_concurrent, use_early_stopped_trials)\u001b[0m\n\u001b[1;32m    128\u001b[0m                  \u001b[0mmax_concurrent\u001b[0m\u001b[0;34m:\u001b[0m \u001b[0mOptional\u001b[0m\u001b[0;34m[\u001b[0m\u001b[0mint\u001b[0m\u001b[0;34m]\u001b[0m \u001b[0;34m=\u001b[0m \u001b[0;32mNone\u001b[0m\u001b[0;34m,\u001b[0m\u001b[0;34m\u001b[0m\u001b[0;34m\u001b[0m\u001b[0m\n\u001b[1;32m    129\u001b[0m                  use_early_stopped_trials: Optional[bool] = None):\n\u001b[0;32m--> 130\u001b[0;31m         assert byo is not None, (\n\u001b[0m\u001b[1;32m    131\u001b[0m             \u001b[0;34m\"BayesOpt must be installed!. You can install BayesOpt with\"\u001b[0m\u001b[0;34m\u001b[0m\u001b[0;34m\u001b[0m\u001b[0m\n\u001b[1;32m    132\u001b[0m             \" the command: `pip install bayesian-optimization`.\")\n",
      "\u001b[0;31mAssertionError\u001b[0m: BayesOpt must be installed!. You can install BayesOpt with the command: `pip install bayesian-optimization`."
     ]
    }
   ],
   "source": [
    "from ray.tune.suggest import ConcurrencyLimiter\n",
    "from ray.tune.suggest.bayesopt import BayesOptSearch\n",
    "\n",
    "# Define the search space\n",
    "config = {\n",
    "    \"a\": tune.uniform(0, 1),\n",
    "    \"b\": tune.uniform(0, 20)\n",
    "}\n",
    "\n",
    "# Execute 20 trials using BayesOpt and stop after 20 iterations\n",
    "tune.run(\n",
    "    trainable,\n",
    "    config=config,\n",
    "    metric=\"score\",\n",
    "    mode=\"max\",\n",
    "    # Limit to two concurrent trials (otherwise we end up with random search)\n",
    "    search_alg=ConcurrencyLimiter(\n",
    "        BayesOptSearch(random_search_steps=4),\n",
    "        max_concurrent=2),\n",
    "    num_samples=20,\n",
    "    stop={\"training_iteration\": 20},\n",
    "    verbose=2)"
   ]
  },
  {
   "cell_type": "code",
   "execution_count": 8,
   "id": "70ec1924",
   "metadata": {},
   "outputs": [
    {
     "ename": "SyntaxError",
     "evalue": "invalid syntax (<ipython-input-8-0574faafcde8>, line 1)",
     "output_type": "error",
     "traceback": [
      "\u001b[0;36m  File \u001b[0;32m\"<ipython-input-8-0574faafcde8>\"\u001b[0;36m, line \u001b[0;32m1\u001b[0m\n\u001b[0;31m    pip3 install bayesian-optimization\u001b[0m\n\u001b[0m         ^\u001b[0m\n\u001b[0;31mSyntaxError\u001b[0m\u001b[0;31m:\u001b[0m invalid syntax\n"
     ]
    }
   ],
   "source": [
    "pip3 install bayesian-optimization"
   ]
  },
  {
   "cell_type": "code",
   "execution_count": null,
   "id": "d11a6f21",
   "metadata": {},
   "outputs": [],
   "source": []
  }
 ],
 "metadata": {
  "kernelspec": {
   "display_name": "Python 3",
   "language": "python",
   "name": "python3"
  },
  "language_info": {
   "codemirror_mode": {
    "name": "ipython",
    "version": 3
   },
   "file_extension": ".py",
   "mimetype": "text/x-python",
   "name": "python",
   "nbconvert_exporter": "python",
   "pygments_lexer": "ipython3",
   "version": "3.8.8"
  }
 },
 "nbformat": 4,
 "nbformat_minor": 5
}
