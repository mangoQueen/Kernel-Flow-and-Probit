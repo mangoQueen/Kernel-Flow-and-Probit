{
 "cells": [
  {
   "cell_type": "markdown",
   "id": "71f97168",
   "metadata": {},
   "source": [
    "# Hyper-parameter tuning using Bayesian optimization"
   ]
  },
  {
   "cell_type": "markdown",
   "id": "ac6d60c9",
   "metadata": {},
   "source": [
    "Bayesian hyperparameter optimization: \n",
    "Builds a probability model of the objective function and use it to select the most promising hyperparameters to evaluate in the true objective function.\n",
    "(https://towardsdatascience.com/a-conceptual-explanation-of-bayesian-model-based-hyperparameter-optimization-for-machine-learning-b8172278050f)\n",
    "(https://github.com/fmfn/BayesianOptimization/blob/master/examples/advanced-tour.ipynb)"
   ]
  },
  {
   "cell_type": "markdown",
   "id": "7c3abd32",
   "metadata": {},
   "source": [
    "## Functions needed to compute u*"
   ]
  },
  {
   "cell_type": "code",
   "execution_count": 1,
   "id": "67126845",
   "metadata": {},
   "outputs": [],
   "source": [
    "import autograd.numpy as np\n",
    "from scipy.linalg import fractional_matrix_power\n",
    "\n",
    "# Functions for construction of problem\n",
    "\n",
    "# Assume Noise i.i.d. logistic random variables with mean 0\n",
    "def cap_psi(X, g):\n",
    "    # g - gamma\n",
    "    # cdf of zero-mean logistic random var\n",
    "    return np.reciprocal(np.exp(-1.0/g*X)+1.0)\n",
    "\n",
    "def psi(X,g):\n",
    "    # g - gamma\n",
    "    # pdf of zero-mean logistic random var\n",
    "    return 1.0/g*np.exp(-1.0/g*X)*np.reciprocal(np.exp(-1.0/g*X)+1)**2\n",
    "\n",
    "# Weight function returned by kernel Function\n",
    "def weight(X, N_lst, r, eps):\n",
    "    '''\n",
    "    kernel(t, r) = 1_{t<=r}(t) where t = |x_i-x_j| [3]-(61) in paper\n",
    "\n",
    "    X - N*3 vector containing (x, y, z) of all data (assume same size)\n",
    "    N_lst - indices of X to use\n",
    "    eps - gives perturbed kernel if eps != 0\n",
    "    r - threshold in kernel function\n",
    "    '''\n",
    "    # Weight returned using perturbed kernel function k_eps(|x_i - x_j|) [1]-(61)\n",
    "    N = N_lst.size\n",
    "    W = np.zeros((N,N))\n",
    "    for count_i,i in enumerate(N_lst):\n",
    "        for count_j, j in enumerate(N_lst):\n",
    "            # kappa function as L2 norm\n",
    "#             X_i = X[i]; X_j = X[j]\n",
    "#             dist = 0.0\n",
    "#             for ix in range(X_i.size):\n",
    "#                 dist += (X_i[ix]-X_j[ix])**2\n",
    "            dist = np.linalg.norm(X[i]-X[j])**2\n",
    "            if dist<=r:\n",
    "                W[count_i][count_j] = 1\n",
    "            W[count_i][count_j] += eps*np.exp(-dist/(r+eps)**2)\n",
    "\n",
    "    np.fill_diagonal(W, 0)\n",
    "    return W\n",
    "\n",
    "# Inverse of covariance\n",
    "def Cov_inv(X, N_lst, eps, alpha, tau, r):\n",
    "    '''\n",
    "    kernel(t, r) = 1_{t<=r}(t) where t = |x_i-x_j| [3]-(61) in paper\n",
    "\n",
    "    X - N*3 vector containing (x, y, z) of all data (assume same size)\n",
    "    N_lst - indices of X to use (Size: N)\n",
    "    eps - gives perturbed kernel if eps != 0\n",
    "    tau, alpha - parameters for covariance\n",
    "    r - threshold in kernel function\n",
    "    '''\n",
    "    N = N_lst.size\n",
    "    W = weight(X,N_lst,r,eps)\n",
    "    D = np.diag(W.sum(axis=1))\n",
    "    L = D - W\n",
    "    return fractional_matrix_power(1/tau**2*(L + tau**2*np.eye(N)), alpha)\n",
    "\n",
    "# truncated version of Covariance defined in [3]-(62)\n",
    "def Cov_truncated(X, N_lst, eps, alpha, tau, r, n_eig):\n",
    "    '''\n",
    "    kernel(t, r) = 1_{t<=r}(t) where t = |x_i-x_j| [3]-(61) in paper\n",
    "\n",
    "    X - N*3 vector containing (x, y, z) of all data (assume same size)\n",
    "    N_lst - indices of X to use (Size: N)\n",
    "    eps - gives perturbed kernel if eps != 0\n",
    "    tau, alpha - parameters for covariance\n",
    "    r - threshold in kernel function\n",
    "    n_eig - eigenvlue cutoff for truncated [3]-(62)\n",
    "    '''\n",
    "    N = N_lst.size\n",
    "    # Weight returned using perturbed kernel function k_eps(|x_i - x_j|) [1]-(61)\n",
    "    W = weight(X,N_lst,r,eps)\n",
    "    D = np.diag(W.sum(axis=1))\n",
    "    L = D - W\n",
    "    LE, LV = np.linalg.eig(L)\n",
    "\n",
    "    CE = 1/tau**2*(LE + tau**2)**alpha\n",
    "    C = np.zeros((N,N))\n",
    "    for k in range(n_eig):\n",
    "        C = C + 1/CE[k]*np.outer(LV[:,k],(LV[:,k].T))\n",
    "    return C"
   ]
  },
  {
   "cell_type": "code",
   "execution_count": 2,
   "id": "c08fb941",
   "metadata": {},
   "outputs": [],
   "source": [
    "import ray\n",
    "from ray import tune\n",
    "from ray.tune.suggest.bayesopt import BayesOptSearch\n",
    "\n",
    "# -----------Newton's Method----------------------------------\n",
    "\n",
    "def misfit(u, N_lst, y, Z_p, g):\n",
    "    '''\n",
    "    Misfit function defined in [3]-(45)\n",
    "    u - vector to find\n",
    "    N_lst - list of indices used\n",
    "    y - labels\n",
    "    Z_p - Z' i.e. indices of labels\n",
    "    u - vector\n",
    "    '''\n",
    "    S = 0.0\n",
    "    for Z_j in Z_p:\n",
    "        u_j = np.where(N_lst == Z_j)\n",
    "        S = S - np.log(cap_psi(y[Z_j]*u[u_j][0],g))\n",
    "    return S\n",
    "\n",
    "def probit_min(X, N_lst, y, Z_p, u, g, alpha, tau, eps, rval):\n",
    "\n",
    "    if type(N_lst) == int:\n",
    "        N_lst = np.arange(N_lst)\n",
    "\n",
    "    C_inv = Cov_inv(X, N_lst, eps, alpha, tau, rval)\n",
    "    # Minimizer u for problem defined in [3]-(3)\n",
    "    ret = 1/2*np.dot(u, np.matmul(C_inv,u)) + misfit(u, N_lst, y, Z_p, g)\n",
    "    return ret"
   ]
  },
  {
   "cell_type": "markdown",
   "id": "4e913e76",
   "metadata": {},
   "source": [
    "## Set up Data"
   ]
  },
  {
   "cell_type": "code",
   "execution_count": 3,
   "id": "77fb28df",
   "metadata": {},
   "outputs": [
    {
     "data": {
      "image/png": "[encoded data removed]",
      "text/plain": [
       "<Figure size 432x288 with 1 Axes>"
      ]
     },
     "metadata": {
      "needs_background": "light"
     },
     "output_type": "display_data"
    }
   ],
   "source": [
    "import matplotlib.pyplot as plt\n",
    "from mpl_toolkits.mplot3d import Axes3D\n",
    "\n",
    "N_each = 50 # Number of points in each cluster\n",
    "n_cluster = 3 # Number of clusters\n",
    "N = N_each*n_cluster # Total number of points\n",
    "\n",
    "mu, sigma = 0, 0.1 # mean and standard deviation\n",
    "xs = np.random.normal(mu, sigma, N)\n",
    "ys = np.random.normal(mu, sigma, N)\n",
    "zs = np.random.normal(mu, sigma, N)\n",
    "\n",
    "# Cluster centers: (1,0,0) (0,1,0) (0,0,1)\n",
    "xs[:N_each] += 1; ys[N_each:2*N_each] += 1; zs[2*N_each:3*N_each] += 1\n",
    "Data = np.array([xs,ys,zs]).T\n",
    "\n",
    "u_dagger = np.append(np.ones(2*N_each), -1*np.ones(N_each))\n",
    "Z_prime = np.array([0,20,40,50,60,80,100,130,140]) # Indices of labels\n",
    "y = np.sign(u_dagger) # One label is observed within each cluster\n",
    "\n",
    "# Display plot\n",
    "fig = plt.figure()\n",
    "ax = Axes3D(fig)\n",
    "ax.scatter(xs[:2*N_each], ys[:2*N_each], zs[:2*N_each], 'r')\n",
    "ax.scatter(xs[2*N_each:3*N_each], ys[2*N_each:3*N_each], zs[2*N_each:3*N_each], 'b')\n",
    "ax.set_title('Labeled Data with ' + str(N) +' points')\n",
    "ax.set_xlabel('x')\n",
    "ax.set_ylabel('y')\n",
    "ax.set_zlabel('z');\n",
    "plt.show()"
   ]
  },
  {
   "cell_type": "markdown",
   "id": "f4969339",
   "metadata": {},
   "source": [
    "## Trainable Function for parameter"
   ]
  },
  {
   "cell_type": "code",
   "execution_count": 5,
   "id": "f0aebbc8",
   "metadata": {},
   "outputs": [],
   "source": [
    "#defining trainable function that minimizes probit function\n",
    "def trainable(config):\n",
    "    maxiter = 50\n",
    "    for __ in range(maxiter):\n",
    "        u = np.random.normal(mu, sigma, N)\n",
    "        result = probit_min(Data, N, y, Z_prime, u, config[\"g\"], config[\"alpha\"], \n",
    "                   config[\"tau\"], config[\"eps\"], config[\"rval\"])\n",
    "        tune.report(score = result)\n",
    "        \n",
    "        # Define the search space\n",
    "config = {\n",
    "    \"g\": tune.uniform(0,1.5),\n",
    "    \"alpha\": tune.uniform(0, 6),\n",
    "    \"tau\": tune.uniform(0, 6),\n",
    "    \"eps\": tune.uniform(0, 1),\n",
    "    \"rval\": tune.uniform(0, 1.5)\n",
    "}"
   ]
  },
  {
   "cell_type": "code",
   "execution_count": 6,
   "id": "462de242",
   "metadata": {},
   "outputs": [
    {
     "name": "stderr",
     "output_type": "stream",
     "text": [
      "2021-12-02 00:03:02,478\tWARNING function_runner.py:563 -- Function checkpointing is disabled. This may result in unexpected behavior when using checkpointing features or certain schedulers. To enable, set the train function arguments to be `func(config, checkpoint_dir=None)`.\n",
      "2021-12-02 00:03:02,497\tWARNING bayesopt.py:397 -- BayesOpt does not support specific sampling methods. The Uniform sampler will be dropped.\n",
      "2021-12-02 00:03:02,497\tWARNING bayesopt.py:397 -- BayesOpt does not support specific sampling methods. The Uniform sampler will be dropped.\n",
      "2021-12-02 00:03:02,501\tWARNING bayesopt.py:397 -- BayesOpt does not support specific sampling methods. The Uniform sampler will be dropped.\n",
      "2021-12-02 00:03:02,503\tWARNING bayesopt.py:397 -- BayesOpt does not support specific sampling methods. The Uniform sampler will be dropped.\n",
      "2021-12-02 00:03:02,507\tWARNING bayesopt.py:397 -- BayesOpt does not support specific sampling methods. The Uniform sampler will be dropped.\n"
     ]
    }
   ],
   "source": [
    "from ray.tune.suggest import ConcurrencyLimiter\n",
    "from ray.tune.suggest.bayesopt import BayesOptSearch\n",
    "\n",
    "bayesopt = BayesOptSearch(metric = \"score\", mode=\"min\")\n",
    "analysis = tune.run(trainable, config = config, search_alg=bayesopt, num_samples=5, verbose = 0)\n"
   ]
  },
  {
   "cell_type": "code",
   "execution_count": 7,
   "id": "0964a6aa",
   "metadata": {},
   "outputs": [
    {
     "name": "stderr",
     "output_type": "stream",
     "text": [
      "/opt/anaconda3/lib/python3.8/site-packages/ray/tune/analysis/experiment_analysis.py:565: UserWarning: Dataframes will use '/' instead of '.' to delimit nested result keys in future versions of Ray. For forward compatibility, set the environment variable TUNE_RESULT_DELIM='/'\n",
      "  warnings.warn(\n"
     ]
    }
   ],
   "source": [
    "# Get a dataframe for the last reported results of all of the trials\n",
    "df_results = analysis.results_df\n",
    "\n",
    "# Get a dataframe for the max accuracy seen for each trial\n",
    "df = analysis.dataframe(metric=\"score\", mode=\"min\")\n",
    "\n",
    "# Get a dict mapping {trial logdir -> dataframes} for all trials in the experiment.\n",
    "all_dataframes = analysis.trial_dataframes\n",
    "\n",
    "# Get a list of trials\n",
    "trials = analysis.trials"
   ]
  },
  {
   "cell_type": "code",
   "execution_count": 8,
   "id": "d5be5ce2",
   "metadata": {},
   "outputs": [
    {
     "data": {
      "text/plain": [
       "{'g': 1.2486639612006325,\n",
       " 'alpha': 0.12350696577481468,\n",
       " 'tau': 1.0909498032426037,\n",
       " 'eps': 0.9699098521619943,\n",
       " 'rval': 0.31850866601741423}"
      ]
     },
     "execution_count": 8,
     "metadata": {},
     "output_type": "execute_result"
    }
   ],
   "source": [
    "analysis.get_best_config('score', 'min')"
   ]
  },
  {
   "cell_type": "code",
   "execution_count": 9,
   "id": "3e665bc4",
   "metadata": {},
   "outputs": [],
   "source": [
    "# Not bayesian\n",
    "config = {\n",
    "    \"g\": tune.uniform(0,1.5),\n",
    "    \"alpha\": tune.uniform(0, 6),\n",
    "    \"tau\": tune.uniform(0, 6),\n",
    "    \"eps\": tune.uniform(0, 1.5),\n",
    "    \"rval\": tune.uniform(0, 1.5)\n",
    "}\n",
    "analysis2 = tune.run(trainable, config = config, mode = 'min', metric = 'score', num_samples=5, verbose = 0)\n"
   ]
  },
  {
   "cell_type": "code",
   "execution_count": 10,
   "id": "f602ffe1",
   "metadata": {},
   "outputs": [],
   "source": [
    "best_trial = analysis2.best_trial  # Get best trial\n",
    "best_config = analysis2.best_config  # Get best trial's hyperparameters\n",
    "best_logdir = analysis2.best_logdir  # Get best trial's logdir\n",
    "best_result = analysis2.best_result  # Get best trial's last results\n",
    "best_result_df = analysis2.best_result_df  # Get best result as pandas dataframe"
   ]
  },
  {
   "cell_type": "code",
   "execution_count": 11,
   "id": "6baecfa3",
   "metadata": {},
   "outputs": [
    {
     "data": {
      "text/plain": [
       "{'g': 0.4140913828206821,\n",
       " 'alpha': 0.44416086812128763,\n",
       " 'tau': 4.193217464856828,\n",
       " 'eps': 0.28852282635609033,\n",
       " 'rval': 1.3197892492225707}"
      ]
     },
     "execution_count": 11,
     "metadata": {},
     "output_type": "execute_result"
    }
   ],
   "source": [
    "best_config"
   ]
  },
  {
   "cell_type": "markdown",
   "id": "393fa5a5",
   "metadata": {},
   "source": [
    "# Now using bayesian optimization with kernel-flow methods"
   ]
  },
  {
   "cell_type": "code",
   "execution_count": 12,
   "id": "2dd407eb",
   "metadata": {},
   "outputs": [],
   "source": [
    "import scipy.optimize\n",
    "import autograd.numpy as np\n",
    "import autograd\n",
    "\n",
    "# ------ EL method ------------------\n",
    "# Array given by Fj in [3] - (12), (13)\n",
    "def F_sum(N_lst, g, y, Z_p, u):\n",
    "    '''\n",
    "    N_lst - list of indices used\n",
    "    g - gamma\n",
    "    y - labels\n",
    "    Z_p - Z' i.e. indices of labels\n",
    "    u - vector\n",
    "    '''\n",
    "    N = N_lst.size\n",
    "    Fj = np.zeros(N)\n",
    "    for Z_j in Z_p:\n",
    "        u_j = np.where(N_lst == Z_j)\n",
    "        basis=np.zeros(N);basis[u_j]=1.0\n",
    "        Fj = Fj + y[Z_j]*psi(y[Z_j]*u[u_j], g)/cap_psi(y[Z_j]*u[u_j], g)*basis\n",
    "    return Fj\n",
    "\n",
    "# Function needed for fsolve using EL given in [3]-(2)\n",
    "def u_ast_EL(X, N_lst, g, y, Z_p, alpha, tau, eps, rval, x_0 = True):\n",
    "    '''\n",
    "    X - N*3 vector containing (x, y, z) of all data (assume same size)\n",
    "    N_lst - indices of X to use (Size: N)\n",
    "            (if just given size N, change it to list)\n",
    "    eps - gives perturbed kernel if eps != 0\n",
    "    tau, alpha - parameters for covariance\n",
    "    rval - threshold in kernel function\n",
    "    x_0 - initial u_0 to minimize (if undefined, x_0 = vector of zeros)\n",
    "    '''\n",
    "    if type(N_lst) == int:\n",
    "        N_lst = np.arange(N_lst)\n",
    "\n",
    "    N = N_lst.size\n",
    "    if x_0: x_0 = np.zeros((N,1))\n",
    "    n_eig = 20 #[3]-(62) truncation\n",
    "    C = Cov_truncated(X, N_lst, eps, alpha, tau, rval, n_eig)\n",
    "    def final(u):\n",
    "    #     C = Cov(X, N, eps, alpha, tau, rval)\n",
    "        return u - C@F_sum(N_lst, g, y, Z_p, u)\n",
    "    return scipy.optimize.fsolve(final, x_0)\n",
    "\n",
    "# ------- Newton's method --------------\n",
    "def newton(f, x0, tol=10e-08, maxiter=50):\n",
    "    '''\n",
    "    f - input function\n",
    "    x0 - initialization\n",
    "    tol - tolerance for step size\n",
    "    '''\n",
    "    g = autograd.grad(f)\n",
    "    h = autograd.hessian(f)\n",
    "\n",
    "    x = x0\n",
    "    for _ in range(maxiter):\n",
    "        step = np.linalg.solve(h(x), -g(x))\n",
    "        x = x + step\n",
    "        if np.linalg.norm(step) < tol:\n",
    "            break\n",
    "\n",
    "    return x\n",
    "\n",
    "# Returns u* using newton's method\n",
    "def u_ast_Newt(X, N_lst, g, y, Z_p, alpha, tau, eps, rval, x_0 = True):\n",
    "    '''\n",
    "    X - N*3 vector containing (x, y, z) of all data (assume same size)\n",
    "    N_lst - indices of X to use (Size: N) (ex. for full N, N_lst = np.arange(N))\n",
    "            (if just given size N, change it to list)\n",
    "    eps - gives perturbed kernel if eps != 0\n",
    "    tau, alpha - parameters for covariance\n",
    "    rval - threshold in kernel function\n",
    "    '''\n",
    "    if type(N_lst) == int:\n",
    "        N_lst = np.arange(N_lst)\n",
    "\n",
    "    C_inv = Cov_inv(X, N_lst, eps, alpha, tau, rval)\n",
    "    def probit_min(u):\n",
    "        # Minimizer u for problem defined in [3]-(3)\n",
    "        return 1/2*np.dot(u, C_inv@u) + misfit(u, N_lst, y, Z_p, g)\n",
    "    if x_0: x_0 = np.zeros(N_lst.size)\n",
    "    return newton(probit_min, x_0)"
   ]
  },
  {
   "cell_type": "code",
   "execution_count": 13,
   "id": "c1f9aa35",
   "metadata": {},
   "outputs": [],
   "source": [
    "# Using Kernel Flow method to approximate parameters\n",
    "\n",
    "# Return randomly selected half data indices from N that includes half of\n",
    "# labeled data\n",
    "# Follows from [1]\n",
    "def select_Nf(N, Z_prime):\n",
    "    '''\n",
    "    N - (int) number of elements\n",
    "    Z_prime - indices of labeled data\n",
    "    '''\n",
    "    N_f = int((N-Z_prime.size)/2) # Must be <= N\n",
    "    half_Z = int(Z_prime.size/2+1) # half of labels\n",
    "\n",
    "    # Randomly selected indices N_f and N_c used for X,Y,Z\n",
    "    # Always need to include Z' or else cant compute\n",
    "    N_f_i = np.random.choice(N, N_f, replace=False)\n",
    "    Z_half= np.random.choice(Z_prime, half_Z, replace=False)\n",
    "    for z in Z_half:\n",
    "        if z not in N_f_i:\n",
    "            N_f_i = np.append(N_f_i, z)\n",
    "\n",
    "    N_f = N_f_i.size\n",
    "    return N_f_i, Z_half\n",
    "\n",
    "# Follows rho expression given in [2]-(6)\n",
    "def rho_EL(g, alpha, tau, eps, rval):\n",
    "    '''\n",
    "    theta - parameters to optimize (g, alpha, tau, eps, rval)\n",
    "    X - whole data (not just half)\n",
    "    N - (int) number of elements\n",
    "    Z_prime - indices of labeled data\n",
    "    y - labels (of Z_prime)\n",
    "    '''\n",
    "    # g = 0.15; alpha = 1.; tau = 1.;\n",
    "    # eps, rval= theta\n",
    "\n",
    "    N_f_i, Z_half = select_Nf(N, Z_prime)\n",
    "\n",
    "    uast = u_ast_EL(Data, N, g, y, Z_prime, alpha, tau, eps, rval)\n",
    "    uast_tild = u_ast_EL(Data, N_f_i, g, y, Z_half, alpha, tau, eps, rval)\n",
    "\n",
    "    # Compute |uast-uast_tild|^2/|uast|^2 using L2 norm\n",
    "    # loop over each valid N_f_i\n",
    "    num = 0.0\n",
    "    denom = 0.0\n",
    "    for u_i, nf_i in enumerate(N_f_i):\n",
    "        num += (uast_tild[u_i] - uast[nf_i])**2\n",
    "        denom += uast[nf_i]**2\n",
    "    return - num/denom\n",
    "\n",
    "# Follows rho expression given in [2]-(6)\n",
    "def rho_Newt(g, alpha, tau, eps, rval):\n",
    "    '''\n",
    "    theta - parameters to optimize (g, alpha, tau, eps, rval)\n",
    "    X - whole data (not just half)\n",
    "    N - (int) number of elements\n",
    "    Z_prime - indices of labeled data\n",
    "    y - labels (of Z_prime)\n",
    "    '''\n",
    "    # g = 0.15; alpha = 1.; tau = 1.;\n",
    "    # eps, rval= theta\n",
    "\n",
    "    N_f_i, Z_half = select_Nf(N, Z_prime)\n",
    "\n",
    "    uast = u_ast_Newt(Data, N, g, y, Z_prime, alpha, tau, eps, rval)\n",
    "    uast_tild = u_ast_Newt(Data, N_f_i, g, y, Z_half, alpha, tau, eps, rval)\n",
    "\n",
    "    # Compute |uast-uast_tild|^2/|uast|^2 using L2 norm\n",
    "    # loop over each valid N_f_i\n",
    "    num = 0.0\n",
    "    denom = 0.0\n",
    "    for u_i, nf_i in enumerate(N_f_i):\n",
    "        num += (uast_tild[u_i] - uast[nf_i])**2\n",
    "        denom += uast[nf_i]**2\n",
    "    return - num/denom"
   ]
  },
  {
   "cell_type": "code",
   "execution_count": 18,
   "id": "7df75ce4",
   "metadata": {},
   "outputs": [
    {
     "name": "stdout",
     "output_type": "stream",
     "text": [
      "Optimizer for Euler-Lagrange equations\n",
      "|   iter    |  target   |   alpha   |    eps    |     g     |   rval    |    tau    |\n",
      "-------------------------------------------------------------------------------------\n",
      "| \u001b[0m 1       \u001b[0m | \u001b[0m-4.482   \u001b[0m | \u001b[0m 1.251   \u001b[0m | \u001b[0m 1.441   \u001b[0m | \u001b[0m 0.000228\u001b[0m | \u001b[0m 0.4535  \u001b[0m | \u001b[0m 0.587   \u001b[0m |\n",
      "| \u001b[95m 2       \u001b[0m | \u001b[95m-0.9315  \u001b[0m | \u001b[95m 0.277   \u001b[0m | \u001b[95m 0.3725  \u001b[0m | \u001b[95m 0.6911  \u001b[0m | \u001b[95m 0.5952  \u001b[0m | \u001b[95m 2.155   \u001b[0m |\n",
      "| \u001b[0m 3       \u001b[0m | \u001b[0m-1.078   \u001b[0m | \u001b[0m 1.258   \u001b[0m | \u001b[0m 1.37    \u001b[0m | \u001b[0m 0.4089  \u001b[0m | \u001b[0m 1.317   \u001b[0m | \u001b[0m 0.1096  \u001b[0m |\n",
      "| \u001b[0m 4       \u001b[0m | \u001b[0m-2.763   \u001b[0m | \u001b[0m 2.341   \u001b[0m | \u001b[0m 1.897   \u001b[0m | \u001b[0m 0.4681  \u001b[0m | \u001b[0m 1.399   \u001b[0m | \u001b[0m 1.021   \u001b[0m |\n",
      "| \u001b[95m 5       \u001b[0m | \u001b[95m-0.8027  \u001b[0m | \u001b[95m 0.3451  \u001b[0m | \u001b[95m 0.3744  \u001b[0m | \u001b[95m 0.5104  \u001b[0m | \u001b[95m 0.57    \u001b[0m | \u001b[95m 2.118   \u001b[0m |\n",
      "| \u001b[95m 6       \u001b[0m | \u001b[95m-0.3259  \u001b[0m | \u001b[95m 0.106   \u001b[0m | \u001b[95m 1e-07   \u001b[0m | \u001b[95m 0.1605  \u001b[0m | \u001b[95m 0.585   \u001b[0m | \u001b[95m 2.729   \u001b[0m |\n",
      "| \u001b[95m 7       \u001b[0m | \u001b[95m-0.2585  \u001b[0m | \u001b[95m 0.424   \u001b[0m | \u001b[95m 1e-07   \u001b[0m | \u001b[95m 1e-07   \u001b[0m | \u001b[95m 1.5     \u001b[0m | \u001b[95m 2.575   \u001b[0m |\n",
      "| \u001b[95m 8       \u001b[0m | \u001b[95m-0.183   \u001b[0m | \u001b[95m 1.176   \u001b[0m | \u001b[95m 1e-07   \u001b[0m | \u001b[95m 1e-07   \u001b[0m | \u001b[95m 0.8561  \u001b[0m | \u001b[95m 3.311   \u001b[0m |\n",
      "| \u001b[95m 9       \u001b[0m | \u001b[95m-0.138   \u001b[0m | \u001b[95m 0.226   \u001b[0m | \u001b[95m 0.7177  \u001b[0m | \u001b[95m 1e-07   \u001b[0m | \u001b[95m 1.338   \u001b[0m | \u001b[95m 3.818   \u001b[0m |\n",
      "| \u001b[0m 10      \u001b[0m | \u001b[0m-0.875   \u001b[0m | \u001b[0m 0.7237  \u001b[0m | \u001b[0m 1e-07   \u001b[0m | \u001b[0m 1.133   \u001b[0m | \u001b[0m 1.5     \u001b[0m | \u001b[0m 4.0     \u001b[0m |\n",
      "| \u001b[0m 11      \u001b[0m | \u001b[0m-0.2881  \u001b[0m | \u001b[0m 0.609   \u001b[0m | \u001b[0m 0.9152  \u001b[0m | \u001b[0m 1e-07   \u001b[0m | \u001b[0m 1e-07   \u001b[0m | \u001b[0m 4.0     \u001b[0m |\n",
      "| \u001b[95m 12      \u001b[0m | \u001b[95m-0.105   \u001b[0m | \u001b[95m 1.577   \u001b[0m | \u001b[95m 1.453   \u001b[0m | \u001b[95m 1e-07   \u001b[0m | \u001b[95m 1.282   \u001b[0m | \u001b[95m 4.0     \u001b[0m |\n",
      "| \u001b[95m 13      \u001b[0m | \u001b[95m-0.005048\u001b[0m | \u001b[95m 2.489   \u001b[0m | \u001b[95m 0.7127  \u001b[0m | \u001b[95m 1e-07   \u001b[0m | \u001b[95m 0.05805 \u001b[0m | \u001b[95m 4.0     \u001b[0m |\n",
      "=====================================================================================\n",
      "Optimizer for Newton's Method\n",
      "|   iter    |  target   |   alpha   |    eps    |     g     |   rval    |    tau    |\n",
      "-------------------------------------------------------------------------------------\n",
      "| \u001b[0m 1       \u001b[0m | \u001b[0m-1.494   \u001b[0m | \u001b[0m 1.251   \u001b[0m | \u001b[0m 1.441   \u001b[0m | \u001b[0m 0.000228\u001b[0m | \u001b[0m 0.4535  \u001b[0m | \u001b[0m 0.587   \u001b[0m |\n",
      "| \u001b[95m 2       \u001b[0m | \u001b[95m-0.3573  \u001b[0m | \u001b[95m 0.277   \u001b[0m | \u001b[95m 0.3725  \u001b[0m | \u001b[95m 0.6911  \u001b[0m | \u001b[95m 0.5952  \u001b[0m | \u001b[95m 2.155   \u001b[0m |\n",
      "| \u001b[0m 3       \u001b[0m | \u001b[0m-5.693   \u001b[0m | \u001b[0m 1.258   \u001b[0m | \u001b[0m 1.37    \u001b[0m | \u001b[0m 0.4089  \u001b[0m | \u001b[0m 1.317   \u001b[0m | \u001b[0m 0.1096  \u001b[0m |\n",
      "| \u001b[0m 4       \u001b[0m | \u001b[0m-2.848   \u001b[0m | \u001b[0m 2.341   \u001b[0m | \u001b[0m 1.897   \u001b[0m | \u001b[0m 0.4681  \u001b[0m | \u001b[0m 1.399   \u001b[0m | \u001b[0m 1.021   \u001b[0m |\n",
      "| \u001b[0m 5       \u001b[0m | \u001b[0m-1.082   \u001b[0m | \u001b[0m 0.8997  \u001b[0m | \u001b[0m 0.9169  \u001b[0m | \u001b[0m 1.172   \u001b[0m | \u001b[0m 1.115   \u001b[0m | \u001b[0m 1.897   \u001b[0m |\n",
      "| \u001b[95m 6       \u001b[0m | \u001b[95m-0.01388 \u001b[0m | \u001b[95m 0.2228  \u001b[0m | \u001b[95m 0.2718  \u001b[0m | \u001b[95m 0.687   \u001b[0m | \u001b[95m 0.6381  \u001b[0m | \u001b[95m 2.26    \u001b[0m |\n",
      "| \u001b[0m 7       \u001b[0m | \u001b[0m-0.4267  \u001b[0m | \u001b[0m 0.3936  \u001b[0m | \u001b[0m 0.1355  \u001b[0m | \u001b[0m 1.127   \u001b[0m | \u001b[0m 1.143   \u001b[0m | \u001b[0m 2.927   \u001b[0m |\n",
      "| \u001b[0m 8       \u001b[0m | \u001b[0m-0.2857  \u001b[0m | \u001b[0m 1e-07   \u001b[0m | \u001b[0m 1e-07   \u001b[0m | \u001b[0m 1e-07   \u001b[0m | \u001b[0m 0.5735  \u001b[0m | \u001b[0m 3.123   \u001b[0m |\n",
      "| \u001b[95m 9       \u001b[0m | \u001b[95m-8.37e-17\u001b[0m | \u001b[95m 1e-07   \u001b[0m | \u001b[95m 1e-07   \u001b[0m | \u001b[95m 1e-07   \u001b[0m | \u001b[95m 1.5     \u001b[0m | \u001b[95m 2.267   \u001b[0m |\n",
      "| \u001b[0m 10      \u001b[0m | \u001b[0m-0.1827  \u001b[0m | \u001b[0m 1.427   \u001b[0m | \u001b[0m 1e-07   \u001b[0m | \u001b[0m 1e-07   \u001b[0m | \u001b[0m 0.9605  \u001b[0m | \u001b[0m 2.731   \u001b[0m |\n",
      "| \u001b[0m 11      \u001b[0m | \u001b[0m-0.361   \u001b[0m | \u001b[0m 0.4127  \u001b[0m | \u001b[0m 1.367   \u001b[0m | \u001b[0m 1e-07   \u001b[0m | \u001b[0m 1.5     \u001b[0m | \u001b[0m 3.302   \u001b[0m |\n",
      "| \u001b[0m 12      \u001b[0m | \u001b[0m-0.152   \u001b[0m | \u001b[0m 1.563   \u001b[0m | \u001b[0m 1.198   \u001b[0m | \u001b[0m 1e-07   \u001b[0m | \u001b[0m 0.003248\u001b[0m | \u001b[0m 3.659   \u001b[0m |\n",
      "| \u001b[0m 13      \u001b[0m | \u001b[0m-0.2024  \u001b[0m | \u001b[0m 2.186   \u001b[0m | \u001b[0m 0.8755  \u001b[0m | \u001b[0m 1e-07   \u001b[0m | \u001b[0m 1.5     \u001b[0m | \u001b[0m 4.0     \u001b[0m |\n",
      "=====================================================================================\n"
     ]
    }
   ],
   "source": [
    "from bayes_opt import BayesianOptimization\n",
    "from bayes_opt import UtilityFunction\n",
    "\n",
    "zeros = 1e-7\n",
    "pbounds = {'g': (zeros,2), 'alpha':(zeros,3), 'tau':(zeros,4), 'eps':(zeros,2), 'rval':(zeros,1.5)}\n",
    "optimizer_EL = BayesianOptimization(\n",
    "    f=rho_EL,\n",
    "    pbounds=pbounds,\n",
    "    verbose=2, # verbose = 1 prints only when a maximum is observed, verbose = 0 is silent\n",
    "    random_state=1,\n",
    ")\n",
    "print(\"Optimizer for Euler-Lagrange equations\")\n",
    "# flip (rho) minimize --> (- rho) maximize\n",
    "optimizer_EL.maximize(\n",
    "    init_points=3,\n",
    "    n_iter=10,\n",
    ")\n",
    "\n",
    "optimizer_Newt = BayesianOptimization(\n",
    "    f=rho_Newt,\n",
    "    pbounds=pbounds,\n",
    "    verbose=2, # verbose = 1 prints only when a maximum is observed, verbose = 0 is silent\n",
    "    random_state=1,\n",
    ")\n",
    "print(\"Optimizer for Newton's Method\")\n",
    "# flip (rho) minimize --> (- rho) maximize\n",
    "optimizer_Newt.maximize(\n",
    "    init_points=3,\n",
    "    n_iter=10,\n",
    ")\n"
   ]
  },
  {
   "cell_type": "code",
   "execution_count": 19,
   "id": "31c1b380",
   "metadata": {},
   "outputs": [
    {
     "name": "stdout",
     "output_type": "stream",
     "text": [
      "Runtime for EL: 0.722071360999962\n",
      "Error for EL: 0.0\n",
      "Runtime for Newton's: 11.155793981999977\n",
      "Error for Newton's: 0.6666666666666667\n"
     ]
    }
   ],
   "source": [
    "from time import perf_counter\n",
    "\n",
    "if __name__ == \"__main__\":\n",
    "# Initial Parameters\n",
    "    eps = optimizer_EL.max['params']['eps']\n",
    "    rval = optimizer_EL.max['params']['rval']\n",
    "    tau = optimizer_EL.max['params']['tau']\n",
    "    alpha = optimizer_EL.max['params']['alpha']\n",
    "    g = optimizer_EL.max['params']['g']\n",
    "\n",
    "    time_start = perf_counter()\n",
    "    u_ast = u_ast_EL(Data, N, g, y, Z_prime, alpha, tau, eps, rval)\n",
    "    print(\"Runtime for EL: \" + str(perf_counter() - time_start))\n",
    "    pred_error =  (sum(abs(np.sign(u_ast) - np.sign(u_dagger)))/(2*N)*100)\n",
    "    print(\"Error for EL: \" + str(pred_error))\n",
    "\n",
    "    eps = optimizer_Newt.max['params']['eps']\n",
    "    rval = optimizer_Newt.max['params']['rval']\n",
    "    tau = optimizer_Newt.max['params']['tau']\n",
    "    alpha = optimizer_Newt.max['params']['alpha']\n",
    "    g = optimizer_Newt.max['params']['g']\n",
    "    time_start = perf_counter()\n",
    "    u_ast_newt = u_ast_Newt(Data, N, g, y, Z_prime, alpha, tau, eps, rval)\n",
    "    print(\"Runtime for Newton's: \" + str(perf_counter() - time_start))\n",
    "    pred_error =  (sum(abs(np.sign(u_ast_newt) - np.sign(u_dagger)))/(2*N)*100)\n",
    "    print(\"Error for Newton's: \" + str(pred_error))"
   ]
  },
  {
   "cell_type": "code",
   "execution_count": 20,
   "id": "cc6f1fab",
   "metadata": {},
   "outputs": [
    {
     "data": {
      "text/plain": [
       "{'alpha': 2.489038046469184,\n",
       " 'eps': 0.7127004954118672,\n",
       " 'g': 1e-07,\n",
       " 'rval': 0.05804649350117874,\n",
       " 'tau': 4.0}"
      ]
     },
     "execution_count": 20,
     "metadata": {},
     "output_type": "execute_result"
    }
   ],
   "source": [
    "optimizer_EL.max['params']"
   ]
  },
  {
   "cell_type": "code",
   "execution_count": 21,
   "id": "5d1669f3",
   "metadata": {},
   "outputs": [
    {
     "data": {
      "text/plain": [
       "{'alpha': 1e-07,\n",
       " 'eps': 1e-07,\n",
       " 'g': 1e-07,\n",
       " 'rval': 1.5,\n",
       " 'tau': 2.2672005086247595}"
      ]
     },
     "execution_count": 21,
     "metadata": {},
     "output_type": "execute_result"
    }
   ],
   "source": [
    "optimizer_Newt.max['params']"
   ]
  },
  {
   "cell_type": "code",
   "execution_count": null,
   "id": "c59929b2",
   "metadata": {},
   "outputs": [],
   "source": []
  }
 ],
 "metadata": {
  "kernelspec": {
   "display_name": "Python 3",
   "language": "python",
   "name": "python3"
  },
  "language_info": {
   "codemirror_mode": {
    "name": "ipython",
    "version": 3
   },
   "file_extension": ".py",
   "mimetype": "text/x-python",
   "name": "python",
   "nbconvert_exporter": "python",
   "pygments_lexer": "ipython3",
   "version": "3.8.8"
  }
 },
 "nbformat": 4,
 "nbformat_minor": 5
}
