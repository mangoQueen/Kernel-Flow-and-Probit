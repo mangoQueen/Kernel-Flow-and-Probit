{
 "cells": [
  {
   "cell_type": "markdown",
   "id": "71f97168",
   "metadata": {},
   "source": [
    "# Hyper-parameter tuning using Bayesian optimization"
   ]
  },
  {
   "cell_type": "markdown",
   "id": "ac6d60c9",
   "metadata": {},
   "source": [
    "Bayesian hyperparameter optimization: \n",
    "Builds a probability model of the objective function and use it to select the most promising hyperparameters to evaluate in the true objective function.\n",
    "(https://towardsdatascience.com/a-conceptual-explanation-of-bayesian-model-based-hyperparameter-optimization-for-machine-learning-b8172278050f)\n",
    "(https://github.com/fmfn/BayesianOptimization/blob/master/examples/advanced-tour.ipynb)"
   ]
  },
  {
   "cell_type": "markdown",
   "id": "7c3abd32",
   "metadata": {},
   "source": [
    "## Functions needed to compute u*"
   ]
  },
  {
   "cell_type": "code",
   "execution_count": 1,
   "id": "67126845",
   "metadata": {},
   "outputs": [],
   "source": [
    "import autograd.numpy as np\n",
    "from scipy.linalg import fractional_matrix_power\n",
    "\n",
    "# Functions for construction of problem\n",
    "\n",
    "# Assume Noise i.i.d. logistic random variables with mean 0\n",
    "def cap_psi(X, g):\n",
    "    # g - gamma\n",
    "    # cdf of zero-mean logistic random var\n",
    "    return np.reciprocal(np.exp(-1.0/g*X)+1.0)\n",
    "\n",
    "def psi(X,g):\n",
    "    # g - gamma\n",
    "    # pdf of zero-mean logistic random var\n",
    "    return 1.0/g*np.exp(-1.0/g*X)*np.reciprocal(np.exp(-1.0/g*X)+1)**2\n",
    "\n",
    "# Weight function returned by kernel Function\n",
    "def weight(X, N_lst, r, eps):\n",
    "    '''\n",
    "    kernel(t, r) = 1_{t<=r}(t) where t = |x_i-x_j| [3]-(61) in paper\n",
    "\n",
    "    X - N*3 vector containing (x, y, z) of all data (assume same size)\n",
    "    N_lst - indices of X to use\n",
    "    eps - gives perturbed kernel if eps != 0\n",
    "    r - threshold in kernel function\n",
    "    '''\n",
    "    # Weight returned using perturbed kernel function k_eps(|x_i - x_j|) [1]-(61)\n",
    "    N = N_lst.size\n",
    "    W = np.zeros((N,N))\n",
    "    for count_i,i in enumerate(N_lst):\n",
    "        for count_j, j in enumerate(N_lst):\n",
    "            # kappa function as L2 norm\n",
    "#             X_i = X[i]; X_j = X[j]\n",
    "#             dist = 0.0\n",
    "#             for ix in range(X_i.size):\n",
    "#                 dist += (X_i[ix]-X_j[ix])**2\n",
    "            dist = np.linalg.norm(X[i]-X[j])**2\n",
    "            if dist<=r:\n",
    "                W[count_i][count_j] = 1\n",
    "            W[count_i][count_j] += eps*np.exp(-dist/(r+eps)**2)\n",
    "\n",
    "    np.fill_diagonal(W, 0)\n",
    "    return W\n",
    "\n",
    "# Inverse of covariance\n",
    "def Cov_inv(X, N_lst, eps, alpha, tau, r):\n",
    "    '''\n",
    "    kernel(t, r) = 1_{t<=r}(t) where t = |x_i-x_j| [3]-(61) in paper\n",
    "\n",
    "    X - N*3 vector containing (x, y, z) of all data (assume same size)\n",
    "    N_lst - indices of X to use (Size: N)\n",
    "    eps - gives perturbed kernel if eps != 0\n",
    "    tau, alpha - parameters for covariance\n",
    "    r - threshold in kernel function\n",
    "    '''\n",
    "    N = N_lst.size\n",
    "    W = weight(X,N_lst,r,eps)\n",
    "    D = np.diag(W.sum(axis=1))\n",
    "    L = D - W\n",
    "    return fractional_matrix_power(1/tau**2*(L + tau**2*np.eye(N)), alpha)\n",
    "\n",
    "# truncated version of Covariance defined in [3]-(62)\n",
    "def Cov_truncated(X, N_lst, eps, alpha, tau, r, n_eig):\n",
    "    '''\n",
    "    kernel(t, r) = 1_{t<=r}(t) where t = |x_i-x_j| [3]-(61) in paper\n",
    "\n",
    "    X - N*3 vector containing (x, y, z) of all data (assume same size)\n",
    "    N_lst - indices of X to use (Size: N)\n",
    "    eps - gives perturbed kernel if eps != 0\n",
    "    tau, alpha - parameters for covariance\n",
    "    r - threshold in kernel function\n",
    "    n_eig - eigenvlue cutoff for truncated [3]-(62)\n",
    "    '''\n",
    "    N = N_lst.size\n",
    "    # Weight returned using perturbed kernel function k_eps(|x_i - x_j|) [1]-(61)\n",
    "    W = weight(X,N_lst,r,eps)\n",
    "    D = np.diag(W.sum(axis=1))\n",
    "    L = D - W\n",
    "    LE, LV = np.linalg.eig(L)\n",
    "\n",
    "    CE = 1/tau**2*(LE + tau**2)**alpha\n",
    "    C = np.zeros((N,N))\n",
    "    for k in range(n_eig):\n",
    "        C = C + 1/CE[k]*np.outer(LV[:,k],(LV[:,k].T))\n",
    "    return C"
   ]
  },
  {
   "cell_type": "code",
   "execution_count": 2,
   "id": "c08fb941",
   "metadata": {},
   "outputs": [],
   "source": [
    "import ray\n",
    "from ray import tune\n",
    "from ray.tune.suggest.bayesopt import BayesOptSearch\n",
    "\n",
    "# -----------Newton's Method----------------------------------\n",
    "\n",
    "def misfit(u, N_lst, y, Z_p, g):\n",
    "    '''\n",
    "    Misfit function defined in [3]-(45)\n",
    "    u - vector to find\n",
    "    N_lst - list of indices used\n",
    "    y - labels\n",
    "    Z_p - Z' i.e. indices of labels\n",
    "    u - vector\n",
    "    '''\n",
    "    S = 0.0\n",
    "    for j,Z_j in enumerate(Z_p):\n",
    "        u_j = np.where(N_lst == Z_j)\n",
    "        S = S - np.log(cap_psi(y[j]*u[u_j][0],g))\n",
    "    return S\n",
    "\n",
    "def probit_min(X, N_lst, y, Z_p, u, g, alpha, tau, eps, rval):\n",
    "\n",
    "    if type(N_lst) == int:\n",
    "        N_lst = np.arange(N_lst)\n",
    "\n",
    "    C_inv = Cov_inv(X, N_lst, eps, alpha, tau, rval)\n",
    "    # Minimizer u for problem defined in [3]-(3)\n",
    "    ret = 1/2*np.dot(u, np.matmul(C_inv,u)) + misfit(u, N_lst, y, Z_p, g)\n",
    "    return ret"
   ]
  },
  {
   "cell_type": "markdown",
   "id": "4e913e76",
   "metadata": {},
   "source": [
    "## Set up Data"
   ]
  },
  {
   "cell_type": "code",
   "execution_count": 19,
   "id": "77fb28df",
   "metadata": {},
   "outputs": [
    {
     "data": {
      "image/png": "[encoded data removed]",
      "text/plain": [
       "<Figure size 432x288 with 1 Axes>"
      ]
     },
     "metadata": {
      "needs_background": "light"
     },
     "output_type": "display_data"
    }
   ],
   "source": [
    "import matplotlib.pyplot as plt\n",
    "from mpl_toolkits.mplot3d import Axes3D\n",
    "\n",
    "N_each = 50 # Number of points in each cluster\n",
    "n_cluster = 3 # Number of clusters\n",
    "N = N_each*n_cluster # Total number of points\n",
    "\n",
    "mu, sigma = 0, 0.1 # mean and standard deviation\n",
    "xs = np.random.normal(mu, sigma, N)\n",
    "ys = np.random.normal(mu, sigma, N)\n",
    "zs = np.random.normal(mu, sigma, N)\n",
    "\n",
    "# Cluster centers: (1,0,0) (0,1,0) (0,0,1)\n",
    "xs[:N_each] += 1; ys[N_each:2*N_each] += 1; zs[2*N_each:3*N_each] += 1\n",
    "Data = np.array([xs,ys,zs]).T\n",
    "\n",
    "u_dagger = np.append(np.ones(2*N_each), -1*np.ones(N_each))\n",
    "Z_prime = np.array([0,50,100]) # Indices of labels\n",
    "y = np.sign(u_dagger[Z_prime]) # One label is observed within each cluster\n",
    "\n",
    "# Display plot\n",
    "fig = plt.figure()\n",
    "ax = Axes3D(fig)\n",
    "ax.scatter(xs[:2*N_each], ys[:2*N_each], zs[:2*N_each], 'r')\n",
    "ax.scatter(xs[2*N_each:3*N_each], ys[2*N_each:3*N_each], zs[2*N_each:3*N_each], 'b')\n",
    "ax.set_title('Labeled Data with ' + str(N) +' points')\n",
    "ax.set_xlabel('x')\n",
    "ax.set_ylabel('y')\n",
    "ax.set_zlabel('z');\n",
    "plt.show()"
   ]
  },
  {
   "cell_type": "markdown",
   "id": "f4969339",
   "metadata": {},
   "source": [
    "## Trainable Function for parameter"
   ]
  },
  {
   "cell_type": "code",
   "execution_count": 4,
   "id": "f0aebbc8",
   "metadata": {},
   "outputs": [],
   "source": [
    "#defining trainable function that minimizes probit function\n",
    "def trainable(config):\n",
    "    maxiter = 50\n",
    "    for __ in range(maxiter):\n",
    "        u = np.random.normal(mu, sigma, N)\n",
    "        result = probit_min(Data, N, y, Z_prime, u, config[\"g\"], config[\"alpha\"], \n",
    "                   config[\"tau\"], config[\"eps\"], config[\"rval\"])\n",
    "        tune.report(score = result)\n",
    "        \n",
    "        # Define the search space\n",
    "config = {\n",
    "    \"g\": tune.uniform(0,1.5),\n",
    "    \"alpha\": tune.uniform(0, 6),\n",
    "    \"tau\": tune.uniform(0, 6),\n",
    "    \"eps\": tune.uniform(0, 1),\n",
    "    \"rval\": tune.uniform(0, 1.5)\n",
    "}"
   ]
  },
  {
   "cell_type": "code",
   "execution_count": 5,
   "id": "462de242",
   "metadata": {},
   "outputs": [
    {
     "name": "stderr",
     "output_type": "stream",
     "text": [
      "2021-11-29 22:59:51,243\tWARNING function_runner.py:563 -- Function checkpointing is disabled. This may result in unexpected behavior when using checkpointing features or certain schedulers. To enable, set the train function arguments to be `func(config, checkpoint_dir=None)`.\n",
      "2021-11-29 22:59:51,274\tWARNING bayesopt.py:397 -- BayesOpt does not support specific sampling methods. The Uniform sampler will be dropped.\n",
      "2021-11-29 22:59:51,275\tWARNING bayesopt.py:397 -- BayesOpt does not support specific sampling methods. The Uniform sampler will be dropped.\n",
      "2021-11-29 22:59:51,277\tWARNING bayesopt.py:397 -- BayesOpt does not support specific sampling methods. The Uniform sampler will be dropped.\n",
      "2021-11-29 22:59:51,278\tWARNING bayesopt.py:397 -- BayesOpt does not support specific sampling methods. The Uniform sampler will be dropped.\n",
      "2021-11-29 22:59:51,279\tWARNING bayesopt.py:397 -- BayesOpt does not support specific sampling methods. The Uniform sampler will be dropped.\n"
     ]
    }
   ],
   "source": [
    "from ray.tune.suggest import ConcurrencyLimiter\n",
    "from ray.tune.suggest.bayesopt import BayesOptSearch\n",
    "\n",
    "bayesopt = BayesOptSearch(metric = \"score\", mode=\"min\")\n",
    "analysis = tune.run(trainable, config = config, search_alg=bayesopt, num_samples=5, verbose = 0)\n"
   ]
  },
  {
   "cell_type": "code",
   "execution_count": 6,
   "id": "0964a6aa",
   "metadata": {},
   "outputs": [
    {
     "name": "stderr",
     "output_type": "stream",
     "text": [
      "/opt/anaconda3/lib/python3.8/site-packages/ray/tune/analysis/experiment_analysis.py:565: UserWarning: Dataframes will use '/' instead of '.' to delimit nested result keys in future versions of Ray. For forward compatibility, set the environment variable TUNE_RESULT_DELIM='/'\n",
      "  warnings.warn(\n"
     ]
    }
   ],
   "source": [
    "# Get a dataframe for the last reported results of all of the trials\n",
    "df_results = analysis.results_df\n",
    "\n",
    "# Get a dataframe for the max accuracy seen for each trial\n",
    "df = analysis.dataframe(metric=\"score\", mode=\"min\")\n",
    "\n",
    "# Get a dict mapping {trial logdir -> dataframes} for all trials in the experiment.\n",
    "all_dataframes = analysis.trial_dataframes\n",
    "\n",
    "# Get a list of trials\n",
    "trials = analysis.trials"
   ]
  },
  {
   "cell_type": "code",
   "execution_count": 7,
   "id": "d5be5ce2",
   "metadata": {},
   "outputs": [
    {
     "data": {
      "text/plain": [
       "{'g': 1.2486639612006325,\n",
       " 'alpha': 0.12350696577481468,\n",
       " 'tau': 1.0909498032426037,\n",
       " 'eps': 0.9699098521619943,\n",
       " 'rval': 0.31850866601741423}"
      ]
     },
     "execution_count": 7,
     "metadata": {},
     "output_type": "execute_result"
    }
   ],
   "source": [
    "analysis.get_best_config('score', 'min')"
   ]
  },
  {
   "cell_type": "code",
   "execution_count": 8,
   "id": "3e665bc4",
   "metadata": {},
   "outputs": [
    {
     "name": "stdout",
     "output_type": "stream",
     "text": [
      "\u001b[2m\u001b[1m\u001b[36m(scheduler +2m17s)\u001b[0m Tip: use `ray status` to view detailed cluster status. To disable these messages, set RAY_SCHEDULER_EVENTS=0.\n",
      "\u001b[2m\u001b[1m\u001b[33m(scheduler +2m17s)\u001b[0m Warning: The following resource request cannot be scheduled right now: {'CPU': 1.0}. This is likely due to all cluster resources being claimed by actors. Consider creating fewer actors or adding more nodes to this Ray cluster.\n"
     ]
    }
   ],
   "source": [
    "# Not bayesian\n",
    "config = {\n",
    "    \"g\": tune.uniform(0,1.5),\n",
    "    \"alpha\": tune.uniform(0, 6),\n",
    "    \"tau\": tune.uniform(0, 6),\n",
    "    \"eps\": tune.uniform(0, 1.5),\n",
    "    \"rval\": tune.uniform(0, 1.5)\n",
    "}\n",
    "analysis2 = tune.run(trainable, config = config, mode = 'min', metric = 'score', num_samples=5, verbose = 0)\n"
   ]
  },
  {
   "cell_type": "code",
   "execution_count": 9,
   "id": "f602ffe1",
   "metadata": {},
   "outputs": [],
   "source": [
    "best_trial = analysis2.best_trial  # Get best trial\n",
    "best_config = analysis2.best_config  # Get best trial's hyperparameters\n",
    "best_logdir = analysis2.best_logdir  # Get best trial's logdir\n",
    "best_result = analysis2.best_result  # Get best trial's last results\n",
    "best_result_df = analysis2.best_result_df  # Get best result as pandas dataframe"
   ]
  },
  {
   "cell_type": "code",
   "execution_count": 10,
   "id": "6baecfa3",
   "metadata": {},
   "outputs": [
    {
     "data": {
      "text/plain": [
       "{'g': 0.5533990407029492,\n",
       " 'alpha': 0.1541605945177138,\n",
       " 'tau': 4.6393700744387765,\n",
       " 'eps': 0.5425527162656407,\n",
       " 'rval': 0.16391560113067927}"
      ]
     },
     "execution_count": 10,
     "metadata": {},
     "output_type": "execute_result"
    }
   ],
   "source": [
    "best_config"
   ]
  },
  {
   "cell_type": "markdown",
   "id": "393fa5a5",
   "metadata": {},
   "source": [
    "# Now using bayesian optimization with kernel-flow methods"
   ]
  },
  {
   "cell_type": "code",
   "execution_count": 28,
   "id": "2dd407eb",
   "metadata": {},
   "outputs": [],
   "source": [
    "import scipy.optimize\n",
    "import autograd.numpy as np\n",
    "import autograd\n",
    "\n",
    "# ------ EL method ------------------\n",
    "# Array given by Fj in [3] - (12), (13)\n",
    "def F_sum(N_lst, g, y, Z_p, u):\n",
    "    '''\n",
    "    N_lst - list of indices used\n",
    "    g - gamma\n",
    "    y - labels\n",
    "    Z_p - Z' i.e. indices of labels\n",
    "    u - vector\n",
    "    '''\n",
    "    N = N_lst.size\n",
    "    Fj = np.zeros(N)\n",
    "    for j,Z_j in enumerate(Z_p):\n",
    "        u_j = np.where(N_lst == Z_j)\n",
    "        basis=np.zeros(N);basis[u_j]=1.0\n",
    "        Fj = Fj + y[j]*psi(y[j]*u[u_j], g)/cap_psi(y[j]*u[u_j], g)*basis\n",
    "    return Fj\n",
    "\n",
    "# Function needed for fsolve using EL given in [3]-(2)\n",
    "def u_ast_EL(X, N_lst, g, y, Z_p, alpha, tau, eps, rval, x_0 = True):\n",
    "    '''\n",
    "    X - N*3 vector containing (x, y, z) of all data (assume same size)\n",
    "    N_lst - indices of X to use (Size: N)\n",
    "            (if just given size N, change it to list)\n",
    "    eps - gives perturbed kernel if eps != 0\n",
    "    tau, alpha - parameters for covariance\n",
    "    rval - threshold in kernel function\n",
    "    x_0 - initial u_0 to minimize (if undefined, x_0 = vector of zeros)\n",
    "    '''\n",
    "    if type(N_lst) == int:\n",
    "        N_lst = np.arange(N_lst)\n",
    "\n",
    "    N = N_lst.size\n",
    "    if x_0: x_0 = np.zeros((N,1))\n",
    "    n_eig = 20 #[3]-(62) truncation\n",
    "    C = Cov_truncated(X, N_lst, eps, alpha, tau, rval, n_eig)\n",
    "    def final(u):\n",
    "    #     C = Cov(X, N, eps, alpha, tau, rval)\n",
    "        return u - C@F_sum(N_lst, g, y, Z_p, u)\n",
    "    return scipy.optimize.fsolve(final, x_0)\n",
    "\n",
    "# ------- Newton's method --------------\n",
    "def newton(f, x0, tol=10e-08, maxiter=50):\n",
    "    '''\n",
    "    f - input function\n",
    "    x0 - initialization\n",
    "    tol - tolerance for step size\n",
    "    '''\n",
    "    g = autograd.grad(f)\n",
    "    h = autograd.hessian(f)\n",
    "\n",
    "    x = x0\n",
    "    for _ in range(maxiter):\n",
    "        step = np.linalg.solve(h(x), -g(x))\n",
    "        x = x + step\n",
    "        if np.linalg.norm(step) < tol:\n",
    "            break\n",
    "\n",
    "    return x\n",
    "\n",
    "def misfit(u, N_lst, y, Z_p, g):\n",
    "    '''\n",
    "    Misfit function defined in [3]-(45)\n",
    "    u - vector to find\n",
    "    N_lst - list of indices used\n",
    "    y - labels\n",
    "    Z_p - Z' i.e. indices of labels\n",
    "    u - vector\n",
    "    '''\n",
    "    S = 0.0\n",
    "    for j,Z_j in enumerate(Z_p):\n",
    "        u_j = np.where(N_lst == Z_j)\n",
    "        S = S - np.log(cap_psi(y[j]*u[u_j][0],g))\n",
    "    return S\n",
    "\n",
    "# Returns u* using newton's method\n",
    "def u_ast_Newt(X, N_lst, g, y, Z_p, alpha, tau, eps, rval, x_0 = True):\n",
    "    '''\n",
    "    X - N*3 vector containing (x, y, z) of all data (assume same size)\n",
    "    N_lst - indices of X to use (Size: N) (ex. for full N, N_lst = np.arange(N))\n",
    "            (if just given size N, change it to list)\n",
    "    eps - gives perturbed kernel if eps != 0\n",
    "    tau, alpha - parameters for covariance\n",
    "    rval - threshold in kernel function\n",
    "    '''\n",
    "    if type(N_lst) == int:\n",
    "        N_lst = np.arange(N_lst)\n",
    "\n",
    "    C_inv = Cov_inv(X, N_lst, eps, alpha, tau, rval)\n",
    "    def probit_min(u):\n",
    "        # Minimizer u for problem defined in [3]-(3)\n",
    "        return 1/2*np.dot(u, C_inv@u) + misfit(u, N_lst, y, Z_p, g)\n",
    "    if x_0: x_0 = np.zeros(N_lst.size)\n",
    "    return newton(probit_min, x_0)"
   ]
  },
  {
   "cell_type": "code",
   "execution_count": 29,
   "id": "c1f9aa35",
   "metadata": {},
   "outputs": [],
   "source": [
    "# Using Kernel Flow method to approximate parameters\n",
    "\n",
    "# Return randomly selected half data indices from N that includes half of\n",
    "# labeled data\n",
    "# Follows from [1]\n",
    "def select_Nf(N, Z_prime):\n",
    "    '''\n",
    "    N - (int) number of elements\n",
    "    Z_prime - indices of labeled data\n",
    "    '''\n",
    "    N_f = int((N-Z_prime.size)/2) # Must be <= N\n",
    "    half_Z = int(Z_prime.size/2+1) # half of labels\n",
    "\n",
    "    # Randomly selected indices N_f and N_c used for X,Y,Z\n",
    "    # Always need to include Z' or else cant compute\n",
    "    N_f_i = np.random.choice(N, N_f, replace=False)\n",
    "    Z_half= np.random.choice(Z_prime, half_Z, replace=False)\n",
    "    for z in Z_half:\n",
    "        if z not in N_f_i:\n",
    "            N_f_i = np.append(N_f_i, z)\n",
    "\n",
    "    N_f = N_f_i.size\n",
    "    return N_f_i, Z_half\n",
    "\n",
    "# Follows rho expression given in [2]-(6)\n",
    "def rho_EL(g, alpha, tau, eps, rval):\n",
    "    '''\n",
    "    theta - parameters to optimize (g, alpha, tau, eps, rval)\n",
    "    X - whole data (not just half)\n",
    "    N - (int) number of elements\n",
    "    Z_prime - indices of labeled data\n",
    "    y - labels (of Z_prime)\n",
    "    '''\n",
    "    # g = 0.15; alpha = 1.; tau = 1.;\n",
    "    # eps, rval= theta\n",
    "\n",
    "    N_f_i, Z_half = select_Nf(N, Z_prime)\n",
    "\n",
    "    uast = u_ast_EL(Data, N, g, y, Z_prime, alpha, tau, eps, rval)\n",
    "    uast_tild = u_ast_EL(Data, N_f_i, g, y, Z_half, alpha, tau, eps, rval)\n",
    "\n",
    "    # Compute |uast-uast_tild|^2/|uast|^2 using L2 norm\n",
    "    # loop over each valid N_f_i\n",
    "    num = 0.0\n",
    "    denom = 0.0\n",
    "    for u_i, nf_i in enumerate(N_f_i):\n",
    "        num += (uast_tild[u_i] - uast[nf_i])**2\n",
    "        denom += uast[nf_i]**2\n",
    "    return - num/denom\n",
    "\n",
    "# Follows rho expression given in [2]-(6)\n",
    "def rho_Newt(g, alpha, tau, eps, rval):\n",
    "    '''\n",
    "    theta - parameters to optimize (g, alpha, tau, eps, rval)\n",
    "    X - whole data (not just half)\n",
    "    N - (int) number of elements\n",
    "    Z_prime - indices of labeled data\n",
    "    y - labels (of Z_prime)\n",
    "    '''\n",
    "    # g = 0.15; alpha = 1.; tau = 1.;\n",
    "    # eps, rval= theta\n",
    "\n",
    "    N_f_i, Z_half = select_Nf(N, Z_prime)\n",
    "\n",
    "    uast = u_ast_Newt(Data, N, g, y, Z_prime, alpha, tau, eps, rval)\n",
    "    uast_tild = u_ast_Newt(Data, N_f_i, g, y, Z_half, alpha, tau, eps, rval)\n",
    "\n",
    "    # Compute |uast-uast_tild|^2/|uast|^2 using L2 norm\n",
    "    # loop over each valid N_f_i\n",
    "    num = 0.0\n",
    "    denom = 0.0\n",
    "    for u_i, nf_i in enumerate(N_f_i):\n",
    "        num += (uast_tild[u_i] - uast[nf_i])**2\n",
    "        denom += uast[nf_i]**2\n",
    "    return - num/denom"
   ]
  },
  {
   "cell_type": "code",
   "execution_count": 30,
   "id": "7df75ce4",
   "metadata": {},
   "outputs": [
    {
     "name": "stdout",
     "output_type": "stream",
     "text": [
      "Optimizer for Euler-Lagrange equations\n",
      "|   iter    |  target   |   alpha   |    eps    |     g     |   rval    |    tau    |\n",
      "-------------------------------------------------------------------------------------\n",
      "| \u001b[0m 1       \u001b[0m | \u001b[0m-267.0   \u001b[0m | \u001b[0m 2.502   \u001b[0m | \u001b[0m 1.441   \u001b[0m | \u001b[0m 0.000228\u001b[0m | \u001b[0m 0.3023  \u001b[0m | \u001b[0m 0.4403  \u001b[0m |\n",
      "| \u001b[95m 2       \u001b[0m | \u001b[95m-3.512   \u001b[0m | \u001b[95m 0.554   \u001b[0m | \u001b[95m 0.3725  \u001b[0m | \u001b[95m 0.6911  \u001b[0m | \u001b[95m 0.3968  \u001b[0m | \u001b[95m 1.616   \u001b[0m |\n",
      "| \u001b[0m 3       \u001b[0m | \u001b[0m-27.89   \u001b[0m | \u001b[0m 2.515   \u001b[0m | \u001b[0m 1.37    \u001b[0m | \u001b[0m 0.4089  \u001b[0m | \u001b[0m 0.8781  \u001b[0m | \u001b[0m 0.08216 \u001b[0m |\n",
      "| \u001b[0m 4       \u001b[0m | \u001b[0m-6.739   \u001b[0m | \u001b[0m 0.5693  \u001b[0m | \u001b[0m 0.3821  \u001b[0m | \u001b[0m 0.7272  \u001b[0m | \u001b[0m 0.4199  \u001b[0m | \u001b[0m 1.901   \u001b[0m |\n",
      "| \u001b[0m 5       \u001b[0m | \u001b[0m-12.8    \u001b[0m | \u001b[0m 1e-07   \u001b[0m | \u001b[0m 0.006433\u001b[0m | \u001b[0m 0.9942  \u001b[0m | \u001b[0m 0.5476  \u001b[0m | \u001b[0m 1.713   \u001b[0m |\n",
      "| \u001b[0m 6       \u001b[0m | \u001b[0m-4.106   \u001b[0m | \u001b[0m 0.000436\u001b[0m | \u001b[0m 0.1237  \u001b[0m | \u001b[0m 0.2622  \u001b[0m | \u001b[0m 1e-07   \u001b[0m | \u001b[0m 1.825   \u001b[0m |\n",
      "| \u001b[0m 7       \u001b[0m | \u001b[0m-12.15   \u001b[0m | \u001b[0m 2.629   \u001b[0m | \u001b[0m 1.486   \u001b[0m | \u001b[0m 0.5363  \u001b[0m | \u001b[0m 0.787   \u001b[0m | \u001b[0m 0.1498  \u001b[0m |\n"
     ]
    },
    {
     "name": "stderr",
     "output_type": "stream",
     "text": [
      "/opt/anaconda3/lib/python3.8/site-packages/scipy/optimize/minpack.py:175: RuntimeWarning: The iteration is not making good progress, as measured by the \n",
      "  improvement from the last ten iterations.\n",
      "  warnings.warn(msg, RuntimeWarning)\n"
     ]
    },
    {
     "name": "stdout",
     "output_type": "stream",
     "text": [
      "| \u001b[95m 8       \u001b[0m | \u001b[95m-0.3475  \u001b[0m | \u001b[95m 2.965   \u001b[0m | \u001b[95m 1.381   \u001b[0m | \u001b[95m 1.479   \u001b[0m | \u001b[95m 0.9583  \u001b[0m | \u001b[95m 0.0012  \u001b[0m |\n",
      "| \u001b[0m 9       \u001b[0m | \u001b[0m-6.068   \u001b[0m | \u001b[0m 1.403   \u001b[0m | \u001b[0m 0.2748  \u001b[0m | \u001b[0m 1.768   \u001b[0m | \u001b[0m 0.005884\u001b[0m | \u001b[0m 2.247   \u001b[0m |\n",
      "| \u001b[0m 10      \u001b[0m | \u001b[0m-8.3     \u001b[0m | \u001b[0m 3.303   \u001b[0m | \u001b[0m 0.4281  \u001b[0m | \u001b[0m 1.965   \u001b[0m | \u001b[0m 0.4264  \u001b[0m | \u001b[0m 2.475   \u001b[0m |\n",
      "| \u001b[0m 11      \u001b[0m | \u001b[0m-8.955   \u001b[0m | \u001b[0m 3.968   \u001b[0m | \u001b[0m 1.008   \u001b[0m | \u001b[0m 0.5221  \u001b[0m | \u001b[0m 0.6223  \u001b[0m | \u001b[0m 1.22    \u001b[0m |\n",
      "| \u001b[0m 12      \u001b[0m | \u001b[0m-10.86   \u001b[0m | \u001b[0m 0.8451  \u001b[0m | \u001b[0m 0.5337  \u001b[0m | \u001b[0m 1.701   \u001b[0m | \u001b[0m 0.449   \u001b[0m | \u001b[0m 2.131   \u001b[0m |\n",
      "| \u001b[0m 13      \u001b[0m | \u001b[0m-5.259   \u001b[0m | \u001b[0m 2.813   \u001b[0m | \u001b[0m 0.07531 \u001b[0m | \u001b[0m 0.2604  \u001b[0m | \u001b[0m 0.7057  \u001b[0m | \u001b[0m 1.405   \u001b[0m |\n",
      "=====================================================================================\n",
      "Optimizer for Newton's Method\n",
      "|   iter    |  target   |   alpha   |    eps    |     g     |   rval    |    tau    |\n",
      "-------------------------------------------------------------------------------------\n",
      "| \u001b[0m 1       \u001b[0m | \u001b[0m-208.0   \u001b[0m | \u001b[0m 2.502   \u001b[0m | \u001b[0m 1.441   \u001b[0m | \u001b[0m 0.000228\u001b[0m | \u001b[0m 0.3023  \u001b[0m | \u001b[0m 0.4403  \u001b[0m |\n",
      "| \u001b[95m 2       \u001b[0m | \u001b[95m-0.3277  \u001b[0m | \u001b[95m 0.554   \u001b[0m | \u001b[95m 0.3725  \u001b[0m | \u001b[95m 0.6911  \u001b[0m | \u001b[95m 0.3968  \u001b[0m | \u001b[95m 1.616   \u001b[0m |\n",
      "| \u001b[0m 3       \u001b[0m | \u001b[0m-9.4     \u001b[0m | \u001b[0m 2.515   \u001b[0m | \u001b[0m 1.37    \u001b[0m | \u001b[0m 0.4089  \u001b[0m | \u001b[0m 0.8781  \u001b[0m | \u001b[0m 0.08216 \u001b[0m |\n",
      "| \u001b[0m 4       \u001b[0m | \u001b[0m-2.484   \u001b[0m | \u001b[0m 0.5693  \u001b[0m | \u001b[0m 0.3821  \u001b[0m | \u001b[0m 0.7272  \u001b[0m | \u001b[0m 0.4199  \u001b[0m | \u001b[0m 1.901   \u001b[0m |\n",
      "| \u001b[0m 5       \u001b[0m | \u001b[0m-0.7419  \u001b[0m | \u001b[0m 0.6902  \u001b[0m | \u001b[0m 0.3744  \u001b[0m | \u001b[0m 0.5104  \u001b[0m | \u001b[0m 0.38    \u001b[0m | \u001b[0m 1.588   \u001b[0m |\n",
      "| \u001b[0m 6       \u001b[0m | \u001b[0m-9.643   \u001b[0m | \u001b[0m 2.582   \u001b[0m | \u001b[0m 1.415   \u001b[0m | \u001b[0m 1.225   \u001b[0m | \u001b[0m 0.8996  \u001b[0m | \u001b[0m 0.04303 \u001b[0m |\n",
      "| \u001b[0m 7       \u001b[0m | \u001b[0m-29.92   \u001b[0m | \u001b[0m 2.185   \u001b[0m | \u001b[0m 0.5276  \u001b[0m | \u001b[0m 0.8713  \u001b[0m | \u001b[0m 1.0     \u001b[0m | \u001b[0m 1e-07   \u001b[0m |\n",
      "| \u001b[0m 8       \u001b[0m | \u001b[0m-2.0     \u001b[0m | \u001b[0m 1e-07   \u001b[0m | \u001b[0m 1e-07   \u001b[0m | \u001b[0m 0.08283 \u001b[0m | \u001b[0m 0.8076  \u001b[0m | \u001b[0m 1.764   \u001b[0m |\n",
      "| \u001b[0m 9       \u001b[0m | \u001b[0m-0.7675  \u001b[0m | \u001b[0m 1.403   \u001b[0m | \u001b[0m 0.2748  \u001b[0m | \u001b[0m 1.768   \u001b[0m | \u001b[0m 0.005884\u001b[0m | \u001b[0m 2.247   \u001b[0m |\n",
      "| \u001b[0m 10      \u001b[0m | \u001b[0m-9.49    \u001b[0m | \u001b[0m 3.303   \u001b[0m | \u001b[0m 0.4281  \u001b[0m | \u001b[0m 1.965   \u001b[0m | \u001b[0m 0.4264  \u001b[0m | \u001b[0m 2.475   \u001b[0m |\n",
      "| \u001b[0m 11      \u001b[0m | \u001b[0m-9.172   \u001b[0m | \u001b[0m 3.968   \u001b[0m | \u001b[0m 1.008   \u001b[0m | \u001b[0m 0.5221  \u001b[0m | \u001b[0m 0.6223  \u001b[0m | \u001b[0m 1.22    \u001b[0m |\n",
      "| \u001b[0m 12      \u001b[0m | \u001b[0m-1.446   \u001b[0m | \u001b[0m 0.8451  \u001b[0m | \u001b[0m 0.5337  \u001b[0m | \u001b[0m 1.701   \u001b[0m | \u001b[0m 0.449   \u001b[0m | \u001b[0m 2.131   \u001b[0m |\n",
      "| \u001b[0m 13      \u001b[0m | \u001b[0m-5.363   \u001b[0m | \u001b[0m 2.813   \u001b[0m | \u001b[0m 0.07531 \u001b[0m | \u001b[0m 0.2604  \u001b[0m | \u001b[0m 0.7057  \u001b[0m | \u001b[0m 1.405   \u001b[0m |\n",
      "=====================================================================================\n"
     ]
    }
   ],
   "source": [
    "from bayes_opt import BayesianOptimization\n",
    "from bayes_opt import UtilityFunction\n",
    "\n",
    "zeros = 1e-7\n",
    "pbounds = {'g': (zeros,2), 'alpha':(zeros,6), 'tau':(zeros,3), 'eps':(zeros,2), 'rval':(zeros,1)}\n",
    "optimizer_EL = BayesianOptimization(\n",
    "    f=rho_EL,\n",
    "    pbounds=pbounds,\n",
    "    verbose=2, # verbose = 1 prints only when a maximum is observed, verbose = 0 is silent\n",
    "    random_state=1,\n",
    ")\n",
    "print(\"Optimizer for Euler-Lagrange equations\")\n",
    "# flip (rho) minimize --> (- rho) maximize\n",
    "optimizer_EL.maximize(\n",
    "    init_points=3,\n",
    "    n_iter=10,\n",
    ")\n",
    "\n",
    "optimizer_Newt = BayesianOptimization(\n",
    "    f=rho_Newt,\n",
    "    pbounds=pbounds,\n",
    "    verbose=2, # verbose = 1 prints only when a maximum is observed, verbose = 0 is silent\n",
    "    random_state=1,\n",
    ")\n",
    "print(\"Optimizer for Newton's Method\")\n",
    "# flip (rho) minimize --> (- rho) maximize\n",
    "optimizer_Newt.maximize(\n",
    "    init_points=3,\n",
    "    n_iter=10,\n",
    ")\n"
   ]
  },
  {
   "cell_type": "code",
   "execution_count": 27,
   "id": "31c1b380",
   "metadata": {},
   "outputs": [
    {
     "name": "stdout",
     "output_type": "stream",
     "text": [
      "Runtime for EL: 0.6842808049999576\n",
      "Error for EL: 4.666666666666667\n",
      "Runtime for Newton's: 1.4331979600000295\n",
      "Error for Newton's: 0.0\n"
     ]
    }
   ],
   "source": [
    "from time import perf_counter\n",
    "\n",
    "if __name__ == \"__main__\":\n",
    "# Initial Parameters\n",
    "    eps = optimizer_EL.max['params']['eps']\n",
    "    rval = optimizer_EL.max['params']['rval']\n",
    "    tau = optimizer_EL.max['params']['tau']\n",
    "    alpha = optimizer_EL.max['params']['alpha']\n",
    "    g = optimizer_EL.max['params']['g']\n",
    "\n",
    "    time_start = perf_counter()\n",
    "    u_ast = u_ast_EL(Data, N, g, y, Z_prime, alpha, tau, eps, rval)\n",
    "    print(\"Runtime for EL: \" + str(perf_counter() - time_start))\n",
    "    pred_error =  (sum(abs(np.sign(u_ast) - np.sign(u_dagger)))/(2*N)*100)\n",
    "    print(\"Error for EL: \" + str(pred_error))\n",
    "\n",
    "    eps = optimizer_Newt.max['params']['eps']\n",
    "    rval = optimizer_Newt.max['params']['rval']\n",
    "    tau = optimizer_Newt.max['params']['tau']\n",
    "    alpha = optimizer_Newt.max['params']['alpha']\n",
    "    g = optimizer_Newt.max['params']['g']\n",
    "    time_start = perf_counter()\n",
    "    u_ast_newt = u_ast_Newt(Data, N, g, y, Z_prime, alpha, tau, eps, rval)\n",
    "    print(\"Runtime for Newton's: \" + str(perf_counter() - time_start))\n",
    "    pred_error =  (sum(abs(np.sign(u_ast_newt) - np.sign(u_dagger)))/(2*N)*100)\n",
    "    print(\"Error for Newton's: \" + str(pred_error))"
   ]
  },
  {
   "cell_type": "code",
   "execution_count": null,
   "id": "5d1669f3",
   "metadata": {},
   "outputs": [],
   "source": []
  }
 ],
 "metadata": {
  "kernelspec": {
   "display_name": "Python 3",
   "language": "python",
   "name": "python3"
  },
  "language_info": {
   "codemirror_mode": {
    "name": "ipython",
    "version": 3
   },
   "file_extension": ".py",
   "mimetype": "text/x-python",
   "name": "python",
   "nbconvert_exporter": "python",
   "pygments_lexer": "ipython3",
   "version": "3.8.8"
  }
 },
 "nbformat": 4,
 "nbformat_minor": 5
}
