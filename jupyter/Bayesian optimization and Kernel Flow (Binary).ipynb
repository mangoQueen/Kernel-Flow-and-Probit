{
 "cells": [
  {
   "cell_type": "markdown",
   "id": "71f97168",
   "metadata": {},
   "source": [
    "# Hyper-parameter tuning using Bayesian optimization"
   ]
  },
  {
   "cell_type": "markdown",
   "id": "ac6d60c9",
   "metadata": {},
   "source": [
    "Bayesian hyperparameter optimization: \n",
    "Builds a probability model of the objective function and use it to select the most promising hyperparameters to evaluate in the true objective function.\n",
    "(https://towardsdatascience.com/a-conceptual-explanation-of-bayesian-model-based-hyperparameter-optimization-for-machine-learning-b8172278050f)\n",
    "(https://github.com/fmfn/BayesianOptimization/blob/master/examples/advanced-tour.ipynb)\n",
    "\n",
    "We are now using normalized graph laplacians and a gaussian kernel for the weight matrix"
   ]
  },
  {
   "cell_type": "markdown",
   "id": "7c3abd32",
   "metadata": {},
   "source": [
    "## Functions needed to compute u*"
   ]
  },
  {
   "cell_type": "code",
   "execution_count": 1,
   "id": "8f6aebfc",
   "metadata": {},
   "outputs": [],
   "source": [
    "# Parameters that are fixed (manually chosen)\n",
    "g = 0.5 #Noise standard deviation\n",
    "n_eig = 20"
   ]
  },
  {
   "cell_type": "code",
   "execution_count": 2,
   "id": "67126845",
   "metadata": {},
   "outputs": [],
   "source": [
    "import autograd.numpy as np\n",
    "from scipy.linalg import fractional_matrix_power\n",
    "\n",
    "# Functions for construction of problem\n",
    "\n",
    "# Assume Noise i.i.d. logistic random variables with mean 0\n",
    "def cap_psi(X, g):\n",
    "    # g - gamma\n",
    "    # cdf of zero-mean logistic random var\n",
    "    return np.reciprocal(np.exp(-1.0/g*X)+1.0)\n",
    "\n",
    "def psi(X,g):\n",
    "    # g - gamma\n",
    "    # pdf of zero-mean logistic random var\n",
    "    return 1.0/g*np.exp(-1.0/g*X)*np.reciprocal(np.exp(-1.0/g*X)+1)**2\n",
    "\n",
    "# Weight function returned by kernel Function\n",
    "# Gaussian Kernel\n",
    "def weight(X, N_lst, sigma):\n",
    "    '''\n",
    "    kernel(t, r) = 1_{t<=r}(t) where t = |x_i-x_j| [3]-(61) in paper\n",
    "\n",
    "    X - N*3 vector containing (x, y, z) of all data (assume same size)\n",
    "    N_lst - indices of X to use\n",
    "    sigma - parameter for K(x) = exp(-x^2/(2*sigma^2))\n",
    "    '''\n",
    "    # Weight returned using perturbed kernel function k_eps(|x_i - x_j|) [1]-(61)\n",
    "    N = N_lst.size\n",
    "    W = np.zeros((N,N))\n",
    "    for count_i,i in enumerate(N_lst):\n",
    "        for count_j, j in enumerate(N_lst):\n",
    "            # kappa function as L2 norm\n",
    "#             X_i = X[i]; X_j = X[j]\n",
    "#             dist = 0.0\n",
    "#             for ix in range(X_i.size):\n",
    "#                 dist += (X_i[ix]-X_j[ix])**2\n",
    "            dist_sq = np.linalg.norm(X[i]-X[j])**2\n",
    "            W[count_i][count_j] = np.exp(-dist_sq/(2*sigma**2))\n",
    "    return W\n",
    "\n",
    "# Inverse of covariance\n",
    "def Cov_inv(X, N_lst, alpha, tau, sigma):\n",
    "    '''\n",
    "    kernel(t, r) = 1_{t<=r}(t) where t = |x_i-x_j| [3]-(61) in paper\n",
    "\n",
    "    X - N*3 vector containing (x, y, z) of all data (assume same size)\n",
    "    N_lst - indices of X to use\n",
    "    sigma - parameter for K(x) = exp(-x^2/(2*sigma^2))\n",
    "    '''\n",
    "    N = N_lst.size\n",
    "    W = weight(X, N_lst, sigma)\n",
    "    D = np.diag(W.sum(axis=1))\n",
    "    # D^{-1/2} matrix\n",
    "    D_inv_sqrt = np.linalg.inv(np.sqrt(D))\n",
    "    L = D_inv_sqrt@(D - W)@D_inv_sqrt\n",
    "    return fractional_matrix_power(1/tau**2*(L + tau**2*np.eye(N)), alpha).real\n",
    "\n",
    "# truncated version of Covariance defined in [3]-(62)\n",
    "def Cov_truncated(X, N_lst, alpha, tau, sigma, n_eig):\n",
    "    '''\n",
    "    kernel(t, r) = 1_{t<=r}(t) where t = |x_i-x_j| [3]-(61) in paper\n",
    "\n",
    "    X - N*3 vector containing (x, y, z) of all data (assume same size)\n",
    "    N_lst - indices of X to use\n",
    "    sigma - parameter for K(x) = exp(-x^2/(2*sigma^2))\n",
    "    '''\n",
    "    N = N_lst.size\n",
    "    # Weight returned using perturbed kernel function k_eps(|x_i - x_j|) [1]-(61)\n",
    "    W = weight(X, N_lst, sigma)\n",
    "    D = np.diag(W.sum(axis=1))\n",
    "    # D^{-1/2} matrix\n",
    "    D = np.diag(W.sum(axis=1))\n",
    "    D_inv_sqrt = np.linalg.inv(np.sqrt(D))\n",
    "    L = D_inv_sqrt@(D - W)@D_inv_sqrt\n",
    "    LE, LV = np.linalg.eig(L)\n",
    "\n",
    "    CE = 1/tau**2*(LE + tau**2)**alpha\n",
    "    C = np.zeros((N,N))\n",
    "    for k in range(n_eig):\n",
    "        C = C + 1/CE[k]*np.outer(LV[:,k],(LV[:,k].T))\n",
    "    return C.real"
   ]
  },
  {
   "cell_type": "code",
   "execution_count": 3,
   "id": "c08fb941",
   "metadata": {},
   "outputs": [],
   "source": [
    "import ray\n",
    "from ray import tune\n",
    "from ray.tune.suggest.bayesopt import BayesOptSearch\n",
    "\n",
    "# -----------Newton's Method----------------------------------\n",
    "\n",
    "def misfit(u, N_lst, y, Z_p, g):\n",
    "    '''\n",
    "    Misfit function defined in [3]-(45)\n",
    "    u - vector to find\n",
    "    N_lst - list of indices used\n",
    "    y - labels\n",
    "    Z_p - Z' i.e. indices of labels\n",
    "    u - vector\n",
    "    '''\n",
    "    S = 0.0\n",
    "    for Z_j in Z_p:\n",
    "        u_j = np.where(N_lst == Z_j)\n",
    "        S = S - np.log(cap_psi(y[Z_j]*u[u_j][0],g))\n",
    "    return S\n",
    "\n",
    "def param_probit_min(X, N_lst, y, Z_p, u, alpha, tau, sigma):\n",
    "\n",
    "    if type(N_lst) == int:\n",
    "        N_lst = np.arange(N_lst)\n",
    "\n",
    "    C_inv = Cov_inv(X, N_lst, alpha, tau, sigma)\n",
    "    # Minimizer u for problem defined in [3]-(3)\n",
    "    ret = 1/2*np.dot(u, np.matmul(C_inv,u)) + misfit(u, N_lst, y, Z_p, g)\n",
    "    return ret"
   ]
  },
  {
   "cell_type": "code",
   "execution_count": 4,
   "id": "2dd407eb",
   "metadata": {},
   "outputs": [],
   "source": [
    "import scipy.optimize\n",
    "import autograd.numpy as np\n",
    "import autograd\n",
    "\n",
    "# ------ EL method ------------------\n",
    "# Array given by Fj in [3] - (12), (13)\n",
    "def F_sum(N_lst, g, y, Z_p, u):\n",
    "    '''\n",
    "    N_lst - list of indices used\n",
    "    g - gamma\n",
    "    y - labels\n",
    "    Z_p - Z' i.e. indices of labels\n",
    "    u - vector\n",
    "    '''\n",
    "    N = N_lst.size\n",
    "    Fj = np.zeros(N)\n",
    "    for Z_j in Z_p:\n",
    "        u_j = np.where(N_lst == Z_j)\n",
    "        basis=np.zeros(N);basis[u_j]=1.0\n",
    "        Fj = Fj + y[Z_j]*psi(y[Z_j]*u[u_j], g)/cap_psi(y[Z_j]*u[u_j], g)*basis\n",
    "    return Fj\n",
    "\n",
    "# Function needed for fsolve using EL given in [3]-(2)\n",
    "def u_ast_EL(X, N_lst, y, Z_p, g, alpha, tau, sigma, x_0 = True):\n",
    "    '''\n",
    "    X - N*3 vector containing (x, y, z) of all data (assume same size)\n",
    "    N_lst - indices of X to use (Size: N)\n",
    "            (if just given size N, change it to list)\n",
    "    eps - gives perturbed kernel if eps != 0\n",
    "    tau, alpha - parameters for covariance\n",
    "    rval - threshold in kernel function\n",
    "    x_0 - initial u_0 to minimize (if undefined, x_0 = vector of zeros)\n",
    "    '''\n",
    "    if type(N_lst) == int:\n",
    "        N_lst = np.arange(N_lst)\n",
    "\n",
    "    N = N_lst.size\n",
    "    if x_0: x_0 = np.zeros((N,1))\n",
    "    n_eig = 20 #[3]-(62) truncation\n",
    "    C = Cov_truncated(X, N_lst, alpha, tau, sigma, n_eig)\n",
    "    def final(u):\n",
    "    #     C = Cov(X, N, eps, alpha, tau, rval)\n",
    "        return u - C@F_sum(N_lst, g, y, Z_p, u)\n",
    "    return scipy.optimize.fsolve(final, x_0)\n",
    "\n",
    "# ------- Newton's method --------------\n",
    "def newton(f, x0, tol=10e-08, maxiter=50):\n",
    "    '''\n",
    "    f - input function\n",
    "    x0 - initialization\n",
    "    tol - tolerance for step size\n",
    "    '''\n",
    "    g = autograd.grad(f)\n",
    "    h = autograd.hessian(f) # add small perturbation (black magic)\n",
    "\n",
    "    x = x0\n",
    "    for _ in range(maxiter):\n",
    "        step = np.linalg.solve(h(x), -g(x))\n",
    "        x = x + step\n",
    "        if np.linalg.norm(step) < tol:\n",
    "            break\n",
    "\n",
    "    return x\n",
    "\n",
    "# Returns u* using newton's method\n",
    "def u_ast_Newt(X, N_lst, y, Z_p, g, alpha, tau, sigma, x_0 = True):\n",
    "    '''\n",
    "    X - N*3 vector containing (x, y, z) of all data (assume same size)\n",
    "    N_lst - indices of X to use (Size: N) (ex. for full N, N_lst = np.arange(N))\n",
    "            (if just given size N, change it to list)\n",
    "    eps - gives perturbed kernel if eps != 0\n",
    "    tau, alpha - parameters for covariance\n",
    "    rval - threshold in kernel function\n",
    "    '''\n",
    "    if type(N_lst) == int:\n",
    "        N_lst = np.arange(N_lst)\n",
    "\n",
    "    C_inv = Cov_inv(X, N_lst, alpha, tau, sigma)\n",
    "    def probit_min(u):\n",
    "        # Minimizer u for problem defined in [3]-(3)\n",
    "        return 1/2*np.dot(u, C_inv@u) + misfit(u, N_lst, y, Z_p, g)\n",
    "    if x_0: x_0 = np.zeros(N_lst.size)\n",
    "    return newton(probit_min, x_0)"
   ]
  },
  {
   "cell_type": "markdown",
   "id": "4e913e76",
   "metadata": {},
   "source": [
    "## Set up Data"
   ]
  },
  {
   "cell_type": "code",
   "execution_count": 8,
   "id": "77fb28df",
   "metadata": {},
   "outputs": [
    {
     "data": {
      "image/png": "[encoded data removed]",
      "text/plain": [
       "<Figure size 432x288 with 1 Axes>"
      ]
     },
     "metadata": {
      "needs_background": "light"
     },
     "output_type": "display_data"
    }
   ],
   "source": [
    "import matplotlib.pyplot as plt\n",
    "from mpl_toolkits.mplot3d import Axes3D\n",
    "\n",
    "N_each = 50 # Number of points in each cluster\n",
    "n_cluster = 3 # Number of clusters\n",
    "N = N_each*n_cluster # Total number of points\n",
    "\n",
    "mu, sigma = 0, 0.1 # mean and standard deviation\n",
    "xs = np.random.normal(mu, sigma, N)\n",
    "ys = np.random.normal(mu, sigma, N)\n",
    "zs = np.random.normal(mu, sigma, N)\n",
    "\n",
    "# Cluster centers: (1,0,0) (0,1,0) (0,0,1)\n",
    "xs[:N_each] += 1; ys[N_each:2*N_each] += 1; zs[2*N_each:3*N_each] += 1\n",
    "Data = np.array([xs,ys,zs]).T\n",
    "\n",
    "u_dagger = np.append(np.ones(2*N_each), -1*np.ones(N_each))\n",
    "Z_prime = np.array([0,20,40,50,60,80,100,130,140]) # Indices of labels\n",
    "y = np.sign(u_dagger) # One label is observed within each cluster\n",
    "\n",
    "# Display plot\n",
    "fig = plt.figure()\n",
    "ax = Axes3D(fig)\n",
    "ax.scatter(xs[:2*N_each], ys[:2*N_each], zs[:2*N_each], 'r')\n",
    "ax.scatter(xs[2*N_each:3*N_each], ys[2*N_each:3*N_each], zs[2*N_each:3*N_each], 'b')\n",
    "ax.set_title('Labeled Data with ' + str(N) +' points')\n",
    "ax.set_xlabel('x')\n",
    "ax.set_ylabel('y')\n",
    "ax.set_zlabel('z');\n",
    "plt.show()"
   ]
  },
  {
   "cell_type": "code",
   "execution_count": 9,
   "id": "e76eb8e6",
   "metadata": {},
   "outputs": [
    {
     "name": "stdout",
     "output_type": "stream",
     "text": [
      "tau: 0.5 | alpha: 0.5 | sigma: 0.1\n",
      "Error for EL: 18.0% | Error for Newton's: 0.0%\n",
      "tau: 0.5 | alpha: 0.5 | sigma: 0.5\n",
      "Error for EL: 6.667% | Error for Newton's: 0.0%\n",
      "tau: 0.5 | alpha: 0.5 | sigma: 1\n",
      "Error for EL: 15.333% | Error for Newton's: 31.333%\n",
      "tau: 0.5 | alpha: 1 | sigma: 0.1\n",
      "Error for EL: 15.333% | Error for Newton's: 0.0%\n",
      "tau: 0.5 | alpha: 1 | sigma: 0.5\n",
      "Error for EL: 0.667% | Error for Newton's: 0.0%\n",
      "tau: 0.5 | alpha: 1 | sigma: 1\n",
      "Error for EL: 10.0% | Error for Newton's: 31.333%\n",
      "tau: 0.5 | alpha: 2 | sigma: 0.1\n",
      "Error for EL: 18.0% | Error for Newton's: 0.0%\n",
      "tau: 0.5 | alpha: 2 | sigma: 0.5\n",
      "Error for EL: 0.0% | Error for Newton's: 0.0%\n",
      "tau: 0.5 | alpha: 2 | sigma: 1\n",
      "Error for EL: 33.333% | Error for Newton's: 31.333%\n",
      "tau: 1 | alpha: 0.5 | sigma: 0.1\n",
      "Error for EL: 22.667% | Error for Newton's: 0.0%\n",
      "tau: 1 | alpha: 0.5 | sigma: 0.5\n",
      "Error for EL: 16.0% | Error for Newton's: 0.0%\n",
      "tau: 1 | alpha: 0.5 | sigma: 1\n",
      "Error for EL: 20.667% | Error for Newton's: 10.0%\n",
      "tau: 1 | alpha: 1 | sigma: 0.1\n",
      "Error for EL: 20.667% | Error for Newton's: 0.0%\n",
      "tau: 1 | alpha: 1 | sigma: 0.5\n",
      "Error for EL: 8.0% | Error for Newton's: 0.0%\n",
      "tau: 1 | alpha: 1 | sigma: 1\n",
      "Error for EL: 14.667% | Error for Newton's: 22.667%\n",
      "tau: 1 | alpha: 2 | sigma: 0.1\n",
      "Error for EL: 18.0% | Error for Newton's: 0.0%\n",
      "tau: 1 | alpha: 2 | sigma: 0.5\n",
      "Error for EL: 0.667% | Error for Newton's: 0.0%\n",
      "tau: 1 | alpha: 2 | sigma: 1\n",
      "Error for EL: 10.0% | Error for Newton's: 31.333%\n",
      "tau: 2 | alpha: 0.5 | sigma: 0.1\n",
      "Error for EL: 24.0% | Error for Newton's: 0.0%\n",
      "tau: 2 | alpha: 0.5 | sigma: 0.5\n",
      "Error for EL: 18.667% | Error for Newton's: 0.0%\n",
      "tau: 2 | alpha: 0.5 | sigma: 1\n",
      "Error for EL: 21.333% | Error for Newton's: 1.333%\n",
      "tau: 2 | alpha: 1 | sigma: 0.1\n",
      "Error for EL: 22.667% | Error for Newton's: 0.0%\n",
      "tau: 2 | alpha: 1 | sigma: 0.5\n",
      "Error for EL: 16.0% | Error for Newton's: 0.0%\n",
      "tau: 2 | alpha: 1 | sigma: 1\n",
      "Error for EL: 21.333% | Error for Newton's: 1.333%\n",
      "tau: 2 | alpha: 2 | sigma: 0.1\n",
      "Error for EL: 22.667% | Error for Newton's: 0.0%\n",
      "tau: 2 | alpha: 2 | sigma: 0.5\n",
      "Error for EL: 13.333% | Error for Newton's: 0.0%\n",
      "tau: 2 | alpha: 2 | sigma: 1\n",
      "Error for EL: 18.667% | Error for Newton's: 2.0%\n"
     ]
    }
   ],
   "source": [
    "from time import perf_counter\n",
    "\n",
    "# Practice test with Params chosen\n",
    "n_eig = 20 #(62) truncation\n",
    "# Initial Parameters\n",
    "for tau in [.5, 1, 2]:\n",
    "    for alpha in [.5, 1, 2]:\n",
    "        for sigma in [.1, .5, 1]:\n",
    "            print('tau: {} | alpha: {} | sigma: {}'.format(tau, alpha, sigma))\n",
    "#             time_start = perf_counter()\n",
    "            u_ast = u_ast_EL(Data, N, y, Z_prime, g, alpha, tau, sigma)\n",
    "#             print(\"Runtime for EL: \" + str(perf_counter() - time_start))\n",
    "            pred_error =  round(sum(abs(np.sign(u_ast) - np.sign(u_dagger)))/(2*N)*100, 3)\n",
    "    \n",
    "#             time_start = perf_counter()\n",
    "            u_ast_newt = u_ast_Newt(Data, N, y, Z_prime, g, alpha, tau, sigma)\n",
    "#             print(\"Runtime for Newton's: \" + str(perf_counter() - time_start))\n",
    "            pred_error2 =  round(sum(abs(np.sign(u_ast_newt) - np.sign(u_dagger)))/(2*N)*100, 3)\n",
    "            print(\"Error for EL: {}% | Error for Newton's: {}%\".format(pred_error, pred_error2))"
   ]
  },
  {
   "cell_type": "markdown",
   "id": "f4969339",
   "metadata": {},
   "source": [
    "## Trainable Function for parameter"
   ]
  },
  {
   "cell_type": "code",
   "execution_count": 10,
   "id": "f0aebbc8",
   "metadata": {},
   "outputs": [],
   "source": [
    "#defining trainable function that minimizes probit function\n",
    "def trainable(config):\n",
    "    maxiter = 50\n",
    "    for __ in range(maxiter):\n",
    "        u = np.random.normal(mu, sigma, N)\n",
    "        result = param_probit_min(Data, N, y, Z_prime, u, config[\"alpha\"], \n",
    "                   config[\"tau\"], config[\"sigma\"])\n",
    "        tune.report(score = result)\n",
    "        # Define the search space\n",
    "config = {\n",
    "    \"alpha\": tune.uniform(0, 3),\n",
    "    \"tau\": tune.uniform(0, 3),\n",
    "    \"sigma\": tune.uniform(0, 1.5),\n",
    "}"
   ]
  },
  {
   "cell_type": "code",
   "execution_count": 11,
   "id": "462de242",
   "metadata": {},
   "outputs": [
    {
     "name": "stderr",
     "output_type": "stream",
     "text": [
      "2021-12-06 16:21:56,300\tWARNING function_runner.py:563 -- Function checkpointing is disabled. This may result in unexpected behavior when using checkpointing features or certain schedulers. To enable, set the train function arguments to be `func(config, checkpoint_dir=None)`.\n",
      "2021-12-06 16:21:56,320\tWARNING bayesopt.py:397 -- BayesOpt does not support specific sampling methods. The Uniform sampler will be dropped.\n",
      "2021-12-06 16:21:56,321\tWARNING bayesopt.py:397 -- BayesOpt does not support specific sampling methods. The Uniform sampler will be dropped.\n",
      "2021-12-06 16:21:56,322\tWARNING bayesopt.py:397 -- BayesOpt does not support specific sampling methods. The Uniform sampler will be dropped.\n"
     ]
    }
   ],
   "source": [
    "from ray.tune.suggest import ConcurrencyLimiter\n",
    "from ray.tune.suggest.bayesopt import BayesOptSearch\n",
    "\n",
    "bayesopt = BayesOptSearch(metric = \"score\", mode=\"min\")\n",
    "analysis = tune.run(trainable, config = config, search_alg=bayesopt, num_samples=5, verbose = 0)\n"
   ]
  },
  {
   "cell_type": "code",
   "execution_count": 12,
   "id": "0964a6aa",
   "metadata": {},
   "outputs": [
    {
     "name": "stderr",
     "output_type": "stream",
     "text": [
      "/opt/anaconda3/lib/python3.8/site-packages/ray/tune/analysis/experiment_analysis.py:565: UserWarning: Dataframes will use '/' instead of '.' to delimit nested result keys in future versions of Ray. For forward compatibility, set the environment variable TUNE_RESULT_DELIM='/'\n",
      "  warnings.warn(\n"
     ]
    }
   ],
   "source": [
    "# Get a dataframe for the last reported results of all of the trials\n",
    "df_results = analysis.results_df\n",
    "\n",
    "# Get a dataframe for the max accuracy seen for each trial\n",
    "df = analysis.dataframe(metric=\"score\", mode=\"min\")\n",
    "\n",
    "# Get a dict mapping {trial logdir -> dataframes} for all trials in the experiment.\n",
    "all_dataframes = analysis.trial_dataframes\n",
    "\n",
    "# Get a list of trials\n",
    "trials = analysis.trials"
   ]
  },
  {
   "cell_type": "code",
   "execution_count": 13,
   "id": "d5be5ce2",
   "metadata": {},
   "outputs": [
    {
     "data": {
      "text/plain": [
       "{'alpha': 2.1242177333881367,\n",
       " 'tau': 2.909729556485983,\n",
       " 'sigma': 0.03087674144370367}"
      ]
     },
     "execution_count": 13,
     "metadata": {},
     "output_type": "execute_result"
    }
   ],
   "source": [
    "analysis.get_best_config('score', 'min')"
   ]
  },
  {
   "cell_type": "code",
   "execution_count": 14,
   "id": "3e665bc4",
   "metadata": {},
   "outputs": [],
   "source": [
    "# Not bayesian\n",
    "config = {\n",
    "    \"alpha\": tune.uniform(0, 6),\n",
    "    \"tau\": tune.uniform(0, 6),\n",
    "    \"sigma\": tune.uniform(0, 1.5),\n",
    "}\n",
    "analysis2 = tune.run(trainable, config = config, mode = 'min', metric = 'score', num_samples=5, verbose = 0)\n"
   ]
  },
  {
   "cell_type": "code",
   "execution_count": 15,
   "id": "f602ffe1",
   "metadata": {},
   "outputs": [],
   "source": [
    "best_trial = analysis2.best_trial  # Get best trial\n",
    "best_config = analysis2.best_config  # Get best trial's hyperparameters\n",
    "best_logdir = analysis2.best_logdir  # Get best trial's logdir\n",
    "best_result = analysis2.best_result  # Get best trial's last results\n",
    "best_result_df = analysis2.best_result_df  # Get best result as pandas dataframe"
   ]
  },
  {
   "cell_type": "code",
   "execution_count": 16,
   "id": "6baecfa3",
   "metadata": {},
   "outputs": [
    {
     "data": {
      "text/plain": [
       "{'alpha': 2.493619389718994,\n",
       " 'tau': 4.406432253794166,\n",
       " 'sigma': 0.30008330997972993}"
      ]
     },
     "execution_count": 16,
     "metadata": {},
     "output_type": "execute_result"
    }
   ],
   "source": [
    "best_config"
   ]
  },
  {
   "cell_type": "markdown",
   "id": "393fa5a5",
   "metadata": {},
   "source": [
    "# Now using bayesian optimization with kernel-flow methods"
   ]
  },
  {
   "cell_type": "code",
   "execution_count": 23,
   "id": "c1f9aa35",
   "metadata": {},
   "outputs": [],
   "source": [
    "# Using Kernel Flow method to approximate parameters\n",
    "\n",
    "# Return randomly selected half data indices from N that includes half of\n",
    "# labeled data\n",
    "# Follows from [1]\n",
    "def select_Nf(N, Z_prime):\n",
    "    '''\n",
    "    N - (int) number of elements\n",
    "    Z_prime - indices of labeled data\n",
    "    '''\n",
    "    N_f = int((N-Z_prime.size)/2) # Must be <= N\n",
    "    half_Z = int(Z_prime.size/2+1) # half of labels\n",
    "\n",
    "    # Randomly selected indices N_f and N_c used for X,Y,Z\n",
    "    # Always need to include Z' or else cant compute\n",
    "    N_f_i = np.random.choice(N, N_f, replace=False)\n",
    "    Z_half= np.random.choice(Z_prime, half_Z, replace=False)\n",
    "    for z in Z_half:\n",
    "        if z not in N_f_i:\n",
    "            N_f_i = np.append(N_f_i, z)\n",
    "\n",
    "    N_f = N_f_i.size\n",
    "    return N_f_i, Z_half\n",
    "\n",
    "# Follows rho expression given in [2]-(6)\n",
    "def rho_EL(alpha, tau, sigma):\n",
    "    '''\n",
    "    theta - parameters to optimize (g, alpha, tau, eps, rval)\n",
    "    X - whole data (not just half)\n",
    "    N - (int) number of elements\n",
    "    Z_prime - indices of labeled data\n",
    "    y - labels (of Z_prime)\n",
    "    '''\n",
    "    # g = 0.15; alpha = 1.; tau = 1.;\n",
    "    # eps, rval= theta\n",
    "\n",
    "    N_f_i, Z_half = select_Nf(N, Z_prime)\n",
    "    uast = u_ast_EL(Data, N, y, Z_prime, g, alpha, tau, sigma)\n",
    "    uast_tild = u_ast_EL(Data, N_f_i, y, Z_half, g, alpha, tau, sigma)\n",
    "\n",
    "    # Compute |uast-uast_tild|^2/|uast|^2 using L2 norm\n",
    "    # loop over each valid N_f_i\n",
    "    num = 0.0\n",
    "    denom = 0.0\n",
    "    for u_i, nf_i in enumerate(N_f_i):\n",
    "        num += (uast_tild[u_i] - uast[nf_i])**2\n",
    "        denom += uast[nf_i]**2\n",
    "    return - num/denom\n",
    "\n",
    "# Follows rho expression given in [2]-(6)\n",
    "def rho_Newt(alpha, tau, sigma):\n",
    "    '''\n",
    "    theta - parameters to optimize (g, alpha, tau, eps, rval)\n",
    "    X - whole data (not just half)\n",
    "    N - (int) number of elements\n",
    "    Z_prime - indices of labeled data\n",
    "    y - labels (of Z_prime)\n",
    "    '''\n",
    "    # g = 0.15; alpha = 1.; tau = 1.;\n",
    "    # eps, rval= theta\n",
    "\n",
    "    N_f_i, Z_half = select_Nf(N, Z_prime)\n",
    "    uast = u_ast_Newt(Data, N, y, Z_prime, g, alpha, tau, sigma)\n",
    "    uast_tild = u_ast_Newt(Data, N_f_i, y, Z_half, g, alpha, tau, sigma)\n",
    "\n",
    "    # Compute |uast-uast_tild|^2/|uast|^2 using L2 norm\n",
    "    # loop over each valid N_f_i\n",
    "    num = 0.0\n",
    "    denom = 0.0\n",
    "    for u_i, nf_i in enumerate(N_f_i):\n",
    "        num += (uast_tild[u_i] - uast[nf_i])**2\n",
    "        denom += uast[nf_i]**2\n",
    "    return - num/denom"
   ]
  },
  {
   "cell_type": "code",
   "execution_count": 40,
   "id": "7df75ce4",
   "metadata": {},
   "outputs": [
    {
     "name": "stdout",
     "output_type": "stream",
     "text": [
      "Optimizer for Euler-Lagrange equations\n",
      "|   iter    |  target   |   alpha   |   sigma   |    tau    |\n",
      "-------------------------------------------------------------\n",
      "| \u001b[0m 1       \u001b[0m | \u001b[0m-0.231   \u001b[0m | \u001b[0m 1.668   \u001b[0m | \u001b[0m 0.7203  \u001b[0m | \u001b[0m 0.000457\u001b[0m |\n",
      "| \u001b[95m 2       \u001b[0m | \u001b[95m-0.08105 \u001b[0m | \u001b[95m 1.209   \u001b[0m | \u001b[95m 0.1468  \u001b[0m | \u001b[95m 0.3694  \u001b[0m |\n",
      "| \u001b[0m 3       \u001b[0m | \u001b[0m-0.388   \u001b[0m | \u001b[0m 0.745   \u001b[0m | \u001b[0m 0.3456  \u001b[0m | \u001b[0m 1.587   \u001b[0m |\n",
      "| \u001b[0m 4       \u001b[0m | \u001b[0m-0.147   \u001b[0m | \u001b[0m 1.367   \u001b[0m | \u001b[0m 0.2126  \u001b[0m | \u001b[0m 0.4125  \u001b[0m |\n",
      "| \u001b[0m 5       \u001b[0m | \u001b[0m-2.0     \u001b[0m | \u001b[0m 0.8842  \u001b[0m | \u001b[0m 1e-07   \u001b[0m | \u001b[0m 0.131   \u001b[0m |\n",
      "| \u001b[0m 6       \u001b[0m | \u001b[0m-0.5261  \u001b[0m | \u001b[0m 1.192   \u001b[0m | \u001b[0m 0.168   \u001b[0m | \u001b[0m 0.6699  \u001b[0m |\n",
      "| \u001b[0m 7       \u001b[0m | \u001b[0m-0.6145  \u001b[0m | \u001b[0m 0.9101  \u001b[0m | \u001b[0m 0.1556  \u001b[0m | \u001b[0m 3.789   \u001b[0m |\n",
      "| \u001b[0m 8       \u001b[0m | \u001b[0m-0.1671  \u001b[0m | \u001b[0m 2.905   \u001b[0m | \u001b[0m 0.7286  \u001b[0m | \u001b[0m 0.7788  \u001b[0m |\n",
      "| \u001b[0m 9       \u001b[0m | \u001b[0m-0.3329  \u001b[0m | \u001b[0m 1.169   \u001b[0m | \u001b[0m 0.4246  \u001b[0m | \u001b[0m 0.3435  \u001b[0m |\n",
      "| \u001b[0m 10      \u001b[0m | \u001b[0m-0.5879  \u001b[0m | \u001b[0m 3.822   \u001b[0m | \u001b[0m 0.6641  \u001b[0m | \u001b[0m 1.883   \u001b[0m |\n",
      "| \u001b[0m 11      \u001b[0m | \u001b[0m-0.2076  \u001b[0m | \u001b[0m 1.955   \u001b[0m | \u001b[0m 0.8412  \u001b[0m | \u001b[0m 3.916   \u001b[0m |\n",
      "| \u001b[95m 12      \u001b[0m | \u001b[95m-0.07776 \u001b[0m | \u001b[95m 1.391   \u001b[0m | \u001b[95m 0.2102  \u001b[0m | \u001b[95m 0.1398  \u001b[0m |\n",
      "| \u001b[0m 13      \u001b[0m | \u001b[0m-0.1237  \u001b[0m | \u001b[0m 1.607   \u001b[0m | \u001b[0m 0.4142  \u001b[0m | \u001b[0m 0.1872  \u001b[0m |\n",
      "=============================================================\n",
      "Optimizer for Newton's Method\n",
      "|   iter    |  target   |   alpha   |   sigma   |    tau    |\n",
      "-------------------------------------------------------------\n",
      "| \u001b[0m 1       \u001b[0m | \u001b[0m-3.42    \u001b[0m | \u001b[0m 1.668   \u001b[0m | \u001b[0m 0.7203  \u001b[0m | \u001b[0m 0.000457\u001b[0m |\n",
      "| \u001b[95m 2       \u001b[0m | \u001b[95m-0.2685  \u001b[0m | \u001b[95m 1.209   \u001b[0m | \u001b[95m 0.1468  \u001b[0m | \u001b[95m 0.3694  \u001b[0m |\n",
      "| \u001b[0m 3       \u001b[0m | \u001b[0m-0.2784  \u001b[0m | \u001b[0m 0.745   \u001b[0m | \u001b[0m 0.3456  \u001b[0m | \u001b[0m 1.587   \u001b[0m |\n",
      "| \u001b[95m 4       \u001b[0m | \u001b[95m-0.1658  \u001b[0m | \u001b[95m 1.503   \u001b[0m | \u001b[95m 0.7899  \u001b[0m | \u001b[95m 3.098   \u001b[0m |\n",
      "| \u001b[0m 5       \u001b[0m | \u001b[0m-0.3713  \u001b[0m | \u001b[0m 1.511   \u001b[0m | \u001b[0m 0.7808  \u001b[0m | \u001b[0m 3.127   \u001b[0m |\n",
      "| \u001b[0m 6       \u001b[0m | \u001b[0m-0.2835  \u001b[0m | \u001b[0m 1.413   \u001b[0m | \u001b[0m 0.8936  \u001b[0m | \u001b[0m 2.766   \u001b[0m |\n",
      "| \u001b[0m 7       \u001b[0m | \u001b[0m-0.1667  \u001b[0m | \u001b[0m 0.9101  \u001b[0m | \u001b[0m 0.1556  \u001b[0m | \u001b[0m 3.789   \u001b[0m |\n",
      "| \u001b[0m 8       \u001b[0m | \u001b[0m-1.153   \u001b[0m | \u001b[0m 2.905   \u001b[0m | \u001b[0m 0.7286  \u001b[0m | \u001b[0m 0.7788  \u001b[0m |\n",
      "| \u001b[0m 9       \u001b[0m | \u001b[0m-0.2825  \u001b[0m | \u001b[0m 1.195   \u001b[0m | \u001b[0m 0.7018  \u001b[0m | \u001b[0m 2.978   \u001b[0m |\n",
      "| \u001b[0m 10      \u001b[0m | \u001b[0m-0.4388  \u001b[0m | \u001b[0m 1.213   \u001b[0m | \u001b[0m 0.7207  \u001b[0m | \u001b[0m 2.956   \u001b[0m |\n",
      "| \u001b[0m 11      \u001b[0m | \u001b[0m-0.2842  \u001b[0m | \u001b[0m 1.955   \u001b[0m | \u001b[0m 0.8412  \u001b[0m | \u001b[0m 3.916   \u001b[0m |\n",
      "| \u001b[0m 12      \u001b[0m | \u001b[0m-0.2858  \u001b[0m | \u001b[0m 1.686   \u001b[0m | \u001b[0m 0.946   \u001b[0m | \u001b[0m 2.917   \u001b[0m |\n",
      "| \u001b[0m 13      \u001b[0m | \u001b[0m-0.3707  \u001b[0m | \u001b[0m 1.012   \u001b[0m | \u001b[0m 0.5084  \u001b[0m | \u001b[0m 3.191   \u001b[0m |\n",
      "=============================================================\n"
     ]
    }
   ],
   "source": [
    "from bayes_opt import BayesianOptimization\n",
    "from bayes_opt import UtilityFunction\n",
    "\n",
    "zeros = 1e-7\n",
    "pbounds = {'sigma': (zeros,1.0), 'alpha':(zeros,4), 'tau':(zeros,4)}\n",
    "optimizer_EL = BayesianOptimization(\n",
    "    f=rho_EL,\n",
    "    pbounds=pbounds,\n",
    "    verbose=2, # verbose = 1 prints only when a maximum is observed, verbose = 0 is silent\n",
    "    random_state=1,\n",
    ")\n",
    "print(\"Optimizer for Euler-Lagrange equations\")\n",
    "# flip (rho) minimize --> (- rho) maximize\n",
    "optimizer_EL.maximize(\n",
    "    init_points=3,\n",
    "    n_iter=10,\n",
    ")\n",
    "\n",
    "optimizer_Newt = BayesianOptimization(\n",
    "    f=rho_Newt,\n",
    "    pbounds=pbounds,\n",
    "    verbose=2, # verbose = 1 prints only when a maximum is observed, verbose = 0 is silent\n",
    "    random_state=1,\n",
    ")\n",
    "print(\"Optimizer for Newton's Method\")\n",
    "# flip (rho) minimize --> (- rho) maximize\n",
    "optimizer_Newt.maximize(\n",
    "    init_points=3,\n",
    "    n_iter=10,\n",
    ")\n"
   ]
  },
  {
   "cell_type": "code",
   "execution_count": 41,
   "id": "31c1b380",
   "metadata": {},
   "outputs": [
    {
     "name": "stdout",
     "output_type": "stream",
     "text": [
      "Runtime for EL: 0.5896685259999686\n",
      "Error for EL: 0.0\n",
      "Runtime for Newton's: 1.8794445530000985\n",
      "Error for Newton's: 0.0\n"
     ]
    }
   ],
   "source": [
    "from time import perf_counter\n",
    "\n",
    "if __name__ == \"__main__\":\n",
    "# Initial Parameters\n",
    "    sigma = optimizer_EL.max['params']['sigma']\n",
    "    tau = optimizer_EL.max['params']['tau']\n",
    "    alpha = optimizer_EL.max['params']['alpha']\n",
    "\n",
    "\n",
    "    time_start = perf_counter()\n",
    "    u_ast = u_ast_EL(Data, N, y, Z_prime, g, alpha, tau, sigma)\n",
    "    print(\"Runtime for EL: \" + str(perf_counter() - time_start))\n",
    "    pred_error =  (sum(abs(np.sign(u_ast) - np.sign(u_dagger)))/(2*N)*100)\n",
    "    print(\"Error for EL: \" + str(pred_error))\n",
    "\n",
    "\n",
    "    tau = optimizer_Newt.max['params']['tau']\n",
    "    alpha = optimizer_Newt.max['params']['alpha']\n",
    "    sigma = optimizer_Newt.max['params']['sigma']\n",
    "    time_start = perf_counter()\n",
    "    u_ast_newt = u_ast_Newt(Data, N, y, Z_prime, g, alpha, tau, sigma)\n",
    "    print(\"Runtime for Newton's: \" + str(perf_counter() - time_start))\n",
    "    pred_error =  (sum(abs(np.sign(u_ast_newt) - np.sign(u_dagger)))/(2*N)*100)\n",
    "    print(\"Error for Newton's: \" + str(pred_error))"
   ]
  },
  {
   "cell_type": "code",
   "execution_count": 42,
   "id": "cc6f1fab",
   "metadata": {},
   "outputs": [
    {
     "data": {
      "text/plain": [
       "{'alpha': 1.3913000111176397,\n",
       " 'sigma': 0.21022928712995093,\n",
       " 'tau': 0.13979266501648463}"
      ]
     },
     "execution_count": 42,
     "metadata": {},
     "output_type": "execute_result"
    }
   ],
   "source": [
    "optimizer_EL.max['params']"
   ]
  },
  {
   "cell_type": "code",
   "execution_count": 43,
   "id": "5d1669f3",
   "metadata": {},
   "outputs": [
    {
     "data": {
      "text/plain": [
       "{'alpha': 1.5033615854732953,\n",
       " 'sigma': 0.7898785560381721,\n",
       " 'tau': 3.0977876309364594}"
      ]
     },
     "execution_count": 43,
     "metadata": {},
     "output_type": "execute_result"
    }
   ],
   "source": [
    "optimizer_Newt.max['params']"
   ]
  },
  {
   "cell_type": "code",
   "execution_count": null,
   "id": "c59929b2",
   "metadata": {},
   "outputs": [],
   "source": []
  }
 ],
 "metadata": {
  "kernelspec": {
   "display_name": "Python 3",
   "language": "python",
   "name": "python3"
  },
  "language_info": {
   "codemirror_mode": {
    "name": "ipython",
    "version": 3
   },
   "file_extension": ".py",
   "mimetype": "text/x-python",
   "name": "python",
   "nbconvert_exporter": "python",
   "pygments_lexer": "ipython3",
   "version": "3.8.8"
  }
 },
 "nbformat": 4,
 "nbformat_minor": 5
}
