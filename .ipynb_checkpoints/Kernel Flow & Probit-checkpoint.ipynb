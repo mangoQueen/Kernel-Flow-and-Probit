{
 "cells": [
  {
   "cell_type": "markdown",
   "id": "6cb46c12",
   "metadata": {},
   "source": [
    "# Where to find referenced equations: "
   ]
  },
  {
   "cell_type": "markdown",
   "id": "371669a4",
   "metadata": {},
   "source": [
    "[1] H. Owhadi and G. R. Yoo. Kernel flows: From learning kernels from data into the abyss. *Journal of Computational Physics*, 389:22–47, 2019. <br>\n",
    "[2] B. Hamzi and H. Owhadi. Learning dynamical systems from data: a simple cross-validation perspective. *CoRR, abs/2007.05074* 2020.<br>\n",
    "[3] F. Hoffmann, B. Hosseini, Z. Ren, and A. Stuart. Consistency of semi-supervised learning algorithms on graphs: Probit and one-hot methods. *Journal of Machine Learning Research 21*, 1-55, 2019"
   ]
  },
  {
   "cell_type": "markdown",
   "id": "7c3abd32",
   "metadata": {},
   "source": [
    "# Functions needed to compute u*"
   ]
  },
  {
   "cell_type": "code",
   "execution_count": 1,
   "id": "67126845",
   "metadata": {},
   "outputs": [],
   "source": [
    "#!/usr/bin/env python\n",
    "# coding: utf-8\n",
    "\n",
    "# # Where to find referenced equations:\n",
    "\n",
    "# [1] H. Owhadi and G. R. Yoo. Kernel flows: From learning kernels from data into the abyss. *Journal of Computational Physics*, 389:22–47, 2019. <br>\n",
    "# [2] B. Hamzi and H. Owhadi. Learning dynamical systems from data: a simple cross-validation perspective. *CoRR, abs/2007.05074* 2020.<br>\n",
    "# [3] F. Hoffmann, B. Hosseini, Z. Ren, and A. Stuart. Consistency of semi-supervised learning algorithms on graphs: Probit and one-hot methods. *Journal of Machine Learning Research 21*, 1-55, 2019\n",
    "\n",
    "# # Functions needed to compute u*\n",
    "\n",
    "# In[1]:\n",
    "\n",
    "import autograd.numpy as np\n",
    "\n",
    "# Functions for construction of problem\n",
    "\n",
    "# Assume Noise i.i.d. logistic random variables with mean 0\n",
    "def cap_psi(X, g):\n",
    "    # g - gamma\n",
    "    # cdf of zero-mean logistic random var\n",
    "    return np.reciprocal(np.exp(-1.0/g*X)+1.0)\n",
    "\n",
    "def psi(X,g):\n",
    "    # g - gamma\n",
    "    # pdf of zero-mean logistic random var\n",
    "    return 1.0/g*np.exp(-1.0/g*X)*np.reciprocal(np.exp(-1.0/g*X)+1)**2\n",
    "\n",
    "# Weight function returned by kernel Function\n",
    "def weight(X, N_lst, r, eps):\n",
    "    '''\n",
    "    kernel(t, r) = 1_{t<=r}(t) where t = |x_i-x_j| [3]-(61) in paper\n",
    "\n",
    "    X - N*3 vector containing (x, y, z) of all data (assume same size)\n",
    "    N_lst - indices of X to use\n",
    "    eps - gives perturbed kernel if eps != 0\n",
    "    r - threshold in kernel function\n",
    "    '''\n",
    "    # Weight returned using perturbed kernel function k_eps(|x_i - x_j|) [1]-(61)\n",
    "    N = N_lst.size\n",
    "    W = np.zeros((N,N))\n",
    "    for count_i,i in enumerate(N_lst):\n",
    "        for count_j, j in enumerate(N_lst):\n",
    "            # kappa function as L2 norm\n",
    "#             X_i = X[i]; X_j = X[j]\n",
    "#             dist = 0.0\n",
    "#             for ix in range(X_i.size):\n",
    "#                 dist += (X_i[ix]-X_j[ix])**2\n",
    "            dist = np.linalg.norm(X[i]-X[j])**2\n",
    "            if dist<=r:\n",
    "                W[count_i][count_j] = 1\n",
    "            W[count_i][count_j] += eps*np.exp(-dist/(r+eps)**2)\n",
    "#             wij = 0.0\n",
    "#             if dist<=r:\n",
    "#                 wij += eps*np.exp(-dist/(r+eps)**2)\n",
    "#             print(wij)\n",
    "#             W[count_i][count_j] = wij \n",
    "\n",
    "    np.fill_diagonal(W, 0)\n",
    "    return W\n",
    "\n",
    "# Inverse of covariance\n",
    "def Cov_inv(X, N_lst, eps, alpha, tau, r):\n",
    "    '''\n",
    "    kernel(t, r) = 1_{t<=r}(t) where t = |x_i-x_j| [3]-(61) in paper\n",
    "\n",
    "    X - N*3 vector containing (x, y, z) of all data (assume same size)\n",
    "    N_lst - indices of X to use (Size: N)\n",
    "    eps - gives perturbed kernel if eps != 0\n",
    "    tau, alpha - parameters for covariance\n",
    "    r - threshold in kernel function\n",
    "    '''\n",
    "    N = N_lst.size\n",
    "    W = weight(X,N_lst,r,eps)\n",
    "    D = np.diag(W.sum(axis=1))\n",
    "    L = D - W\n",
    "    return (1/tau**2*(L + tau**2*np.eye(N)))**alpha\n",
    "\n",
    "# truncated version of Covariance defined in [3]-(62)\n",
    "def Cov_truncated(X, N_lst, eps, alpha, tau, r, n_eig):\n",
    "    '''\n",
    "    kernel(t, r) = 1_{t<=r}(t) where t = |x_i-x_j| [3]-(61) in paper\n",
    "\n",
    "    X - N*3 vector containing (x, y, z) of all data (assume same size)\n",
    "    N_lst - indices of X to use (Size: N)\n",
    "    eps - gives perturbed kernel if eps != 0\n",
    "    tau, alpha - parameters for covariance\n",
    "    r - threshold in kernel function\n",
    "    n_eig - eigenvlue cutoff for truncated [3]-(62)\n",
    "    '''\n",
    "    N = N_lst.size\n",
    "    # Weight returned using perturbed kernel function k_eps(|x_i - x_j|) [1]-(61)\n",
    "    W = weight(X,N_lst,r,eps)\n",
    "    D = np.diag(W.sum(axis=1))\n",
    "    L = D - W\n",
    "    LE, LV = np.linalg.eig(L)\n",
    "\n",
    "    CE = (1/tau**2*(LE + tau**2))**alpha\n",
    "    C = np.zeros((N,N))\n",
    "    for k in range(n_eig):\n",
    "        C = C + 1/CE[k]*np.outer(LV[:,k],(LV[:,k].T))\n",
    "    return C\n",
    "\n",
    "import scipy.optimize\n",
    "\n",
    "# -----------Directly solving EL---------------------------------\n",
    "\n",
    "# Array given by Fj in [3] - (12), (13)\n",
    "def F_sum(N_lst, g, y, Z_p, u):\n",
    "    '''\n",
    "    N - size of vector\n",
    "    g - gamma\n",
    "    y - labels\n",
    "    Z_p - Z' i.e. indices of labels\n",
    "    u - vector\n",
    "    '''\n",
    "    N = N_lst.size\n",
    "    Fj = np.zeros(N)\n",
    "    for j,Z_j in enumerate(Z_p):\n",
    "        u_j = np.where(N_lst == Z_j)\n",
    "        basis=np.zeros(N);basis[u_j]=1.0\n",
    "        Fj = Fj + y[j]*psi(y[j]*u[u_j], g)/cap_psi(y[j]*u[u_j], g)*basis\n",
    "    return Fj\n",
    "\n",
    "\n",
    "# Function needed for fsolve using EL given in [3]-(2)\n",
    "def u_ast_EL(X, N_lst, g, y, Z_p, alpha, tau, eps, rval, x_0 = True):\n",
    "    '''\n",
    "    X - N*3 vector containing (x, y, z) of all data (assume same size)\n",
    "    N_lst - indices of X to use (Size: N)\n",
    "            (if just given size N, change it to list)\n",
    "    eps - gives perturbed kernel if eps != 0\n",
    "    tau, alpha - parameters for covariance\n",
    "    rval - threshold in kernel function\n",
    "    x_0 - initial u_0 to minimize (if undefined, x_0 = vector of zeros)\n",
    "    '''\n",
    "    if type(N_lst) == int:\n",
    "        N_lst = np.arange(N_lst)\n",
    "    # floats saving parameters\n",
    "    val_g = g\n",
    "    val_eps = eps\n",
    "    val_alpha = alpha\n",
    "    val_tau = tau\n",
    "    val_r = rval\n",
    "    if (isinstance(g, int) or isinstance(g, float)) == False:\n",
    "        val_g = g._value\n",
    "    if (isinstance(eps, int) or isinstance(eps, float)) == False:\n",
    "        val_eps = eps._value\n",
    "    if (isinstance(alpha, int) or isinstance(alpha, float)) == False:\n",
    "        val_alpha = alpha._value\n",
    "    if (isinstance(tau, int) or isinstance(tau, float)) == False:\n",
    "        val_tau = tau._value\n",
    "    if (isinstance(rval, int) or isinstance(rval, float)) == False:\n",
    "        val_r = rval._value\n",
    "\n",
    "    N = N_lst.size\n",
    "    if x_0: x_0 = np.zeros((N,1))\n",
    "    n_eig = 20 #[3]-(62) truncation\n",
    "    C = Cov_truncated(X, N_lst, val_eps, val_alpha, val_tau, val_r, n_eig)\n",
    "    def final(u):\n",
    "    #     C = Cov(X, N, eps, alpha, tau, rval)\n",
    "        return u - C@F_sum(N_lst, val_g, y, Z_p, u)\n",
    "    return scipy.optimize.fsolve(final, x_0)\n"
   ]
  },
  {
   "cell_type": "code",
   "execution_count": 2,
   "id": "c08fb941",
   "metadata": {},
   "outputs": [],
   "source": [
    "import autograd.numpy as np\n",
    "import autograd\n",
    "\n",
    "# -----------Newton's Method----------------------------------\n",
    "\n",
    "# Newtons method function\n",
    "def newton(f, x0, tol=10e-08, maxiter=50):\n",
    "    '''\n",
    "    f - input function\n",
    "    x0 - initialization\n",
    "    tol - tolerance for step size\n",
    "    '''\n",
    "    g = autograd.grad(f)\n",
    "    h = autograd.hessian(f)\n",
    "\n",
    "    x = x0\n",
    "    for _ in range(maxiter):\n",
    "        step = np.linalg.solve(h(x), -g(x))\n",
    "        x = x + step\n",
    "        if np.linalg.norm(step) < tol:\n",
    "            break\n",
    "\n",
    "    return x\n",
    "\n",
    "def misfit(u, y, Z_p, g):\n",
    "    '''\n",
    "    Misfit function defined in [3]-(45)\n",
    "    N - size of vector\n",
    "    y - labels\n",
    "    Z_p - Z' i.e. indices of labels\n",
    "    u - vector\n",
    "    '''\n",
    "    S = 0\n",
    "    for j,Z_j in enumerate(Z_p):\n",
    "        S = S - np.log(cap_psi(y[j]*u[Z_j],g))\n",
    "    return S\n",
    "\n",
    "\n",
    "# Returns u* using newton's method\n",
    "def u_ast_Newt(X, N_lst, g, y, Z_p, alpha, tau, eps, r, x_0 = True):\n",
    "    '''\n",
    "    X - N*3 vector containing (x, y, z) of all data (assume same size)\n",
    "    N_lst - indices of X to use (Size: N) (ex. for full N, N_lst = np.arange(N))\n",
    "            (if just given size N, change it to list)\n",
    "    eps - gives perturbed kernel if eps != 0\n",
    "    tau, alpha - parameters for covariance\n",
    "    rval - threshold in kernel function\n",
    "    '''\n",
    "    if type(N_lst) == int:\n",
    "        N_lst = np.arange(N_lst)\n",
    "    C_inv = Cov_inv(X, N_lst, eps, alpha, tau, r)\n",
    "    def probit_min(u):\n",
    "        # Minimizer u for problem defined in [3]-(3)\n",
    "        return 1/2*np.dot(u, C_inv@u) + misfit(u, y, Z_p, g)\n",
    "    if x_0: x_0 = np.zeros(N_lst.size)\n",
    "    return newton(probit_min, x_0)"
   ]
  },
  {
   "cell_type": "markdown",
   "id": "4e913e76",
   "metadata": {},
   "source": [
    "# Set up Data"
   ]
  },
  {
   "cell_type": "code",
   "execution_count": 3,
   "id": "77fb28df",
   "metadata": {},
   "outputs": [
    {
     "data": {
      "image/png": "[encoded data removed]",
      "text/plain": [
       "<Figure size 432x288 with 1 Axes>"
      ]
     },
     "metadata": {
      "needs_background": "light"
     },
     "output_type": "display_data"
    }
   ],
   "source": [
    "import matplotlib.pyplot as plt\n",
    "from mpl_toolkits.mplot3d import Axes3D\n",
    "\n",
    "N_each = 50 # Number of points in each cluster\n",
    "n_cluster = 3 # Number of clusters\n",
    "N = N_each*n_cluster # Total number of points\n",
    "\n",
    "mu, sigma = 0, 0.1 # mean and standard deviation\n",
    "xs = np.random.normal(mu, sigma, N)\n",
    "ys = np.random.normal(mu, sigma, N)\n",
    "zs = np.random.normal(mu, sigma, N)\n",
    "\n",
    "# Cluster centers: (1,0,0) (0,1,0) (0,0,1)\n",
    "xs[:N_each] += 1; ys[N_each:2*N_each] += 1; zs[2*N_each:3*N_each] += 1\n",
    "Data = np.array([xs,ys,zs]).T\n",
    "\n",
    "u_dagger = np.append(np.ones(2*N_each), -1*np.ones(N_each))\n",
    "Z_prime = np.array([0,50,100]) # Indices of labels\n",
    "y = np.sign(u_dagger[Z_prime]) # One label is observed within each cluster\n",
    "\n",
    "# Display plot\n",
    "fig = plt.figure()\n",
    "ax = Axes3D(fig)\n",
    "ax.scatter(xs[:2*N_each], ys[:2*N_each], zs[:2*N_each], 'r')\n",
    "ax.scatter(xs[2*N_each:3*N_each], ys[2*N_each:3*N_each], zs[2*N_each:3*N_each], 'b')\n",
    "ax.set_title('Labeled Data with ' + str(N) +' points')\n",
    "ax.set_xlabel('x')\n",
    "ax.set_ylabel('y')\n",
    "ax.set_zlabel('z');\n",
    "plt.show()"
   ]
  },
  {
   "cell_type": "code",
   "execution_count": 4,
   "id": "91eb2108",
   "metadata": {},
   "outputs": [],
   "source": [
    "# from time import perf_counter\n",
    "\n",
    "# if __name__ == \"__main__\":\n",
    "# # Initial Parameters\n",
    "#     eps = 0.15\n",
    "#     rval = 0.25 #threshold for kernel\n",
    "#     tau = 1\n",
    "#     alpha = 1\n",
    "#     g = 0.5 #Noise standard deviation\n",
    "#     n_eig = 20 #(62) truncation\n",
    "\n",
    "#     time_start = perf_counter()\n",
    "#     u_ast = u_ast_EL(Data, N, g, y, Z_prime, alpha, tau, eps, rval)\n",
    "#     print(\"Runtime for EL: \" + str(perf_counter() - time_start))\n",
    "#     pred_error =  (sum(abs(np.sign(u_ast) - np.sign(u_dagger)))/(N)*100)\n",
    "#     print(\"Error for EL: \" + str(pred_error))\n",
    "\n",
    "\n",
    "#     time_start = perf_counter()\n",
    "#     u_ast_newt = u_ast_Newt(Data, N, g, y, Z_prime, alpha, tau, eps, rval)\n",
    "#     print(\"Runtime for Newton's: \" + str(perf_counter() - time_start))\n",
    "#     pred_error =  (sum(abs(np.sign(u_ast_newt) - np.sign(u_dagger)))/(N)*100)\n",
    "#     print(\"Error for Newton's: \" + str(pred_error))"
   ]
  },
  {
   "cell_type": "markdown",
   "id": "5f470b46",
   "metadata": {},
   "source": [
    "## Using Kernel Flow method "
   ]
  },
  {
   "cell_type": "markdown",
   "id": "fe3f9aad",
   "metadata": {},
   "source": [
    "autograd do not support vectorization of the code, so can't compute and treat W as a matrix"
   ]
  },
  {
   "cell_type": "code",
   "execution_count": 28,
   "id": "c23179cf",
   "metadata": {},
   "outputs": [
    {
     "ename": "IndentationError",
     "evalue": "unindent does not match any outer indentation level (<tokenize>, line 63)",
     "output_type": "error",
     "traceback": [
      "\u001b[0;36m  File \u001b[0;32m\"<tokenize>\"\u001b[0;36m, line \u001b[0;32m63\u001b[0m\n\u001b[0;31m    g, alpha, tau, eps, rval  = theta\u001b[0m\n\u001b[0m    ^\u001b[0m\n\u001b[0;31mIndentationError\u001b[0m\u001b[0;31m:\u001b[0m unindent does not match any outer indentation level\n"
     ]
    }
   ],
   "source": [
    "# Using Kernel Flow method to approximate parameters\n",
    "\n",
    "# Return randomly selected half data indices from N that includes labeled data\n",
    "# Follows from [1]\n",
    "def select_Nf(N, Z_prime):\n",
    "    '''\n",
    "    N - (int) number of elements\n",
    "    Z_prime - indices of labeled data\n",
    "    '''\n",
    "    N_f = int((N-Z_prime.size)/2) # Must be <= N\n",
    "\n",
    "    # Randomly selected indices N_f and N_c used for X,Y,Z\n",
    "    # Always need to include Z' or else cant compute\n",
    "    N_f_i = np.random.choice(N, N_f, replace=False)\n",
    "    for z in Z_prime:\n",
    "        if z not in N_f_i:\n",
    "            N_f_i = np.append(N_f_i, z)\n",
    "    N_f = N_f_i.size\n",
    "    return N_f_i\n",
    "\n",
    "def theta_EL(X, N, Z_prime, y, theta_0, learning_rate, tol, maxiter):\n",
    "    '''\n",
    "    f - inputfunction\n",
    "    theta_0 - initialization\n",
    "    learning_rate - step size\n",
    "    tol - tolerance for Gradient\n",
    "    maxiter - maxmimum number of iterations\n",
    "    '''\n",
    "    # Follows rho expression given in [2]-(6)\n",
    "#     def rho(theta):\n",
    "#         '''\n",
    "#         theta - parameters to optimize (g, alpha, tau, eps, rval)\n",
    "#         X - whole data (not just half)\n",
    "#         N - (int) number of elements\n",
    "#         Z_prime - indices of labeled data\n",
    "#         y - labels (of Z_prime)\n",
    "#         '''\n",
    "#         g, alpha, tau, eps, rval = theta\n",
    "#         N_f_i = select_Nf(N, Z_prime)\n",
    "\n",
    "#         uast = u_ast_EL(X, N, g, y, Z_prime, alpha, tau, eps, rval)\n",
    "#         uast_tild = u_ast_EL(X, N_f_i, g, y, Z_prime, alpha, tau, eps, rval)\n",
    "\n",
    "#         # Compute |uast-uast_tild|^2/|uast|^2 using L2 norm\n",
    "#         # loop over each valid N_f_i\n",
    "#         num = 0.0\n",
    "#         denom = 0.0\n",
    "#         for u_i, nf_i in enumerate(N_f_i):\n",
    "#             num += (uast_tild[u_i] - uast[nf_i])**2\n",
    "#             denom += uast[nf_i]**2\n",
    "#         print(\"rho: \" + str(num/denom))\n",
    "#         return num/denom\n",
    "\n",
    "    theta = theta_0\n",
    "    # Testing rho function\n",
    "            '''\n",
    "        theta - parameters to optimize (g, alpha, tau, eps, rval)\n",
    "        X - whole data (not just half)\n",
    "        N - (int) number of elements\n",
    "        Z_prime - indices of labeled data\n",
    "        y - labels (of Z_prime)\n",
    "        '''\n",
    "        g, alpha, tau, eps, rval  = theta\n",
    "        N_f_i = select_Nf(N, Z_prime)\n",
    "        uast = u_ast_EL(Data, np.arange(N), g, y, Z_prime, alpha, tau, eps, rval)\n",
    "        uast_tild = u_ast_EL(Data, N_f_i, g, y, Z_prime, alpha, tau, eps, rval)\n",
    "\n",
    "        # Compute |uast-uast_tild|^2/|uast|^2 using L2 norm\n",
    "        # loop over each valid N_f_i\n",
    "        num = 0.0\n",
    "        denom = 0.0\n",
    "\n",
    "        N_f = N_f_i.size\n",
    "        u1 = np.zeros(N_f)\n",
    "        u2 = np.zeros(N_f)\n",
    "        diff = np.zeros(N_f)\n",
    "        signdiff = 0.0\n",
    "\n",
    "        for u_i, nf_i in enumerate(N_f_i):\n",
    "            num += (uast_tild[u_i] - uast[nf_i])**2\n",
    "            denom += uast[nf_i]**2\n",
    "\n",
    "            u1[u_i] = uast_tild[u_i]\n",
    "            u2[u_i] = uast[nf_i]\n",
    "            diff[u_i] = (uast_tild[u_i] - uast[nf_i])**2\n",
    "            signdiff += (np.sign(uast_tild[u_i]) != np.sign(uast[nf_i]))\n",
    "        plt.scatter(N_f_i, u1, color = 'red')\n",
    "        plt.scatter(N_f_i, u2, color = 'blue')\n",
    "        plt.title(\"u_N*(blue) vs u_Nf*(red)\")\n",
    "        plt.show()\n",
    "        plt.scatter(N_f_i, diff)\n",
    "        plt.title(\"(u_N* - u_Nf*)^2\")\n",
    "        plt.show()\n",
    "        print(\"sign diff: \" + str(signdiff/N_f))\n",
    "\n",
    "        print(\"rho: \" + str(num/denom))\n",
    "\n",
    "        return num/denom\n",
    "    \n",
    "    for it in range(maxiter):\n",
    "        grad = autograd.elementwise_grad(rho)\n",
    "        direction = grad(theta)\n",
    "        theta = theta - learning_rate*direction\n",
    "        print(\"direction: \" + str(direction))\n",
    "        if np.linalg.norm(direction) < tol:\n",
    "            break\n",
    "    return theta, it"
   ]
  },
  {
   "cell_type": "code",
   "execution_count": 29,
   "id": "a0a72978",
   "metadata": {},
   "outputs": [],
   "source": [
    "# Testing rho function\n",
    "def rho_test(theta):\n",
    "        '''\n",
    "        theta - parameters to optimize (g, alpha, tau, eps, rval)\n",
    "        X - whole data (not just half)\n",
    "        N - (int) number of elements\n",
    "        Z_prime - indices of labeled data\n",
    "        y - labels (of Z_prime)\n",
    "        '''\n",
    "        g, alpha, tau, eps, rval  = theta\n",
    "        N_f_i = select_Nf(N, Z_prime)\n",
    "        uast = u_ast_EL(Data, np.arange(N), g, y, Z_prime, alpha, tau, eps, rval)\n",
    "        uast_tild = u_ast_EL(Data, N_f_i, g, y, Z_prime, alpha, tau, eps, rval)\n",
    "\n",
    "        # Compute |uast-uast_tild|^2/|uast|^2 using L2 norm\n",
    "        # loop over each valid N_f_i\n",
    "        num = 0.0\n",
    "        denom = 0.0\n",
    "\n",
    "        N_f = N_f_i.size\n",
    "        u1 = np.zeros(N_f)\n",
    "        u2 = np.zeros(N_f)\n",
    "        diff = np.zeros(N_f)\n",
    "        signdiff = 0.0\n",
    "\n",
    "        for u_i, nf_i in enumerate(N_f_i):\n",
    "            num += (uast_tild[u_i] - uast[nf_i])**2\n",
    "            denom += uast[nf_i]**2\n",
    "\n",
    "            u1[u_i] = uast_tild[u_i]\n",
    "            u2[u_i] = uast[nf_i]\n",
    "            diff[u_i] = (uast_tild[u_i] - uast[nf_i])**2\n",
    "            signdiff += (np.sign(uast_tild[u_i]) != np.sign(uast[nf_i]))\n",
    "        plt.scatter(N_f_i, u1, color = 'red')\n",
    "        plt.scatter(N_f_i, u2, color = 'blue')\n",
    "        plt.title(\"u_N*(blue) vs u_Nf*(red)\")\n",
    "        plt.show()\n",
    "        plt.scatter(N_f_i, diff)\n",
    "        plt.title(\"(u_N* - u_Nf*)^2\")\n",
    "        plt.show()\n",
    "        print(\"sign diff: \" + str(signdiff/N_f))\n",
    "\n",
    "        print(\"rho: \" + str(num/denom))\n",
    "\n",
    "        return num/denom"
   ]
  },
  {
   "cell_type": "code",
   "execution_count": 30,
   "id": "58f9c8e2",
   "metadata": {},
   "outputs": [
    {
     "data": {
      "image/png": "[encoded data removed]",
      "text/plain": [
       "<Figure size 432x288 with 1 Axes>"
      ]
     },
     "metadata": {
      "needs_background": "light"
     },
     "output_type": "display_data"
    },
    {
     "data": {
      "image/png": "[encoded data removed]",
      "text/plain": [
       "<Figure size 432x288 with 1 Axes>"
      ]
     },
     "metadata": {
      "needs_background": "light"
     },
     "output_type": "display_data"
    },
    {
     "name": "stdout",
     "output_type": "stream",
     "text": [
      "sign diff: 0.24\n",
      "rho: 1.608381123880792\n"
     ]
    },
    {
     "data": {
      "text/plain": [
       "1.608381123880792"
      ]
     },
     "execution_count": 30,
     "metadata": {},
     "output_type": "execute_result"
    }
   ],
   "source": [
    "rho_test(np.array([1.5, 2, 2, 0.2, 1]))"
   ]
  },
  {
   "cell_type": "code",
   "execution_count": 31,
   "id": "fd068e93",
   "metadata": {},
   "outputs": [
    {
     "data": {
      "image/png": "[encoded data removed]",
      "text/plain": [
       "<Figure size 432x288 with 1 Axes>"
      ]
     },
     "metadata": {
      "needs_background": "light"
     },
     "output_type": "display_data"
    },
    {
     "data": {
      "image/png": "[encoded data removed]",
      "text/plain": [
       "<Figure size 432x288 with 1 Axes>"
      ]
     },
     "metadata": {
      "needs_background": "light"
     },
     "output_type": "display_data"
    },
    {
     "name": "stdout",
     "output_type": "stream",
     "text": [
      "sign diff: 0.9966533896327362\n",
      "rho: 0.9966533896327362\n",
      "direction: [0. 0. 0. 0. 0.]\n",
      "Number of Iterations: 0\n",
      "Theta: [0.5  1.   1.   0.15 0.25]\n"
     ]
    }
   ],
   "source": [
    "g = 0.5; alpha = 1; tau = 1; eps = 0.15; rval = 0.25\n",
    "learning_rate = 1e-5; tol=1e-08; maxiter=100\n",
    "\n",
    "theta_0 = np.array([g, alpha, tau, eps, rval])\n",
    "theta, it = theta_EL(Data, N, Z_prime, y, theta_0, learning_rate, tol, maxiter)\n",
    "print(\"Number of Iterations: \" + str(it))\n",
    "print(\"Theta: \" + str(theta))"
   ]
  },
  {
   "cell_type": "code",
   "execution_count": null,
   "id": "11d05e9a",
   "metadata": {},
   "outputs": [],
   "source": []
  }
 ],
 "metadata": {
  "kernelspec": {
   "display_name": "Python 3",
   "language": "python",
   "name": "python3"
  },
  "language_info": {
   "codemirror_mode": {
    "name": "ipython",
    "version": 3
   },
   "file_extension": ".py",
   "mimetype": "text/x-python",
   "name": "python",
   "nbconvert_exporter": "python",
   "pygments_lexer": "ipython3",
   "version": "3.8.8"
  }
 },
 "nbformat": 4,
 "nbformat_minor": 5
}
